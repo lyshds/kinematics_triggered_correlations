{
 "cells": [
  {
   "cell_type": "code",
   "execution_count": 2,
   "metadata": {},
   "outputs": [
    {
     "ename": "ImportError",
     "evalue": "No module named 'flylib'",
     "output_type": "error",
     "traceback": [
      "\u001b[0;31m---------------------------------------------------------------------------\u001b[0m",
      "\u001b[0;31mImportError\u001b[0m                               Traceback (most recent call last)",
      "\u001b[0;32m<ipython-input-2-8704b80d44ae>\u001b[0m in \u001b[0;36m<module>\u001b[0;34m()\u001b[0m\n\u001b[1;32m      1\u001b[0m \u001b[0;34m\u001b[0m\u001b[0m\n\u001b[0;32m----> 2\u001b[0;31m \u001b[0;32mimport\u001b[0m \u001b[0mflylib\u001b[0m \u001b[0;32mas\u001b[0m \u001b[0mflb\u001b[0m\u001b[0;34m\u001b[0m\u001b[0m\n\u001b[0m\u001b[1;32m      3\u001b[0m \u001b[0;31m#from thllib import flylib as flb\u001b[0m\u001b[0;34m\u001b[0m\u001b[0;34m\u001b[0m\u001b[0m\n\u001b[1;32m      4\u001b[0m \u001b[0;32mimport\u001b[0m \u001b[0mflylib\u001b[0m \u001b[0;32mas\u001b[0m \u001b[0mflb\u001b[0m\u001b[0;34m\u001b[0m\u001b[0m\n\u001b[1;32m      5\u001b[0m \u001b[0;32mfrom\u001b[0m \u001b[0mmatplotlib\u001b[0m \u001b[0;32mimport\u001b[0m \u001b[0mpyplot\u001b[0m \u001b[0;32mas\u001b[0m \u001b[0mplt\u001b[0m\u001b[0;34m\u001b[0m\u001b[0m\n",
      "\u001b[0;31mImportError\u001b[0m: No module named 'flylib'"
     ]
    }
   ],
   "source": [
    "\n",
    "import flylib as flb\n",
    "#from thllib import flylib as flb\n",
    "import flylib as flb\n",
    "from matplotlib import pyplot as plt\n",
    "import numpy as np\n",
    "import scipy\n",
    "from flylib import util\n",
    "import figurefirst as fifi\n",
    "import scipy.signal\n",
    "#import local_project_functions as lpf\n",
    "from IPython.display import SVG,display\n",
    "import pandas as pd\n"
   ]
  },
  {
   "cell_type": "code",
   "execution_count": null,
   "metadata": {},
   "outputs": [],
   "source": [
    "import networkx as nx"
   ]
  },
  {
   "cell_type": "code",
   "execution_count": null,
   "metadata": {},
   "outputs": [],
   "source": [
    "\n",
    "\n",
    "fly_nums = range(1600, 1608) + range(1609, 1611) + range(1613, 1614) + range(1615, 1617) + range(1617, 1618) + range(1619, 1620) \n",
    "\n",
    "multi_fly_df = util.construct_multi_fly_df(fly_nums)\n",
    "\n",
    "all_stim_df = multi_fly_df\n"
   ]
  },
  {
   "cell_type": "code",
   "execution_count": null,
   "metadata": {},
   "outputs": [],
   "source": [
    "print(multi_fly_df.columns.values)\n",
    "print(np.unique(multi_fly_df['stimulus']))\n",
    "\n",
    "idx = (multi_fly_df['stimulus']=='cl_blocks, g_x=-1, g_y=0, b_x=-8, b_y=0, ch=True')& \\\n",
    "        ((multi_fly_df['amp_diff']>0.1)&(multi_fly_df['amp_diff']<0.104))\n",
    "\n",
    "\n",
    "# double_filtered_df = multi_fly_df.loc[idx]\n",
    "# print(double_filtered_df)"
   ]
  },
  {
   "cell_type": "code",
   "execution_count": null,
   "metadata": {},
   "outputs": [],
   "source": [
    "#print(filtered_df[key+'_right'])\n",
    "\n",
    "#flynumbers = list(range(1389,1402))\n",
    "#flynumbers = list(range(1548,1549))\n",
    "#flylist = [flb.NetFly(fnum,rootpath='/media/imager/FlyDataD/FlyDB/') for fnum in flynumbers]\n",
    "#l = [fly.open_signals() for fly in flylist]\n",
    "#fly = flylist[4]\n",
    "#fly.open_signals()\n",
    "fly = flb.NetFly(1556)\n",
    "fly.open_signals()\n",
    "\n",
    "general_sorted_keys = sorted(fly.ca_cam_left_model_fits.keys())\n",
    "#print(sorted(fly.ca_cam_left_model_fits.keys()))\n",
    "\n",
    "sorted_keys = []\n",
    "\n",
    "for key in general_sorted_keys:\n",
    "    key2= key+'_right'\n",
    "    key3= key+'_left'\n",
    "    sorted_keys.append(key2)\n",
    "    sorted_keys.append(key3)\n",
    "    \n",
    "    \n",
    "print(sorted_keys)"
   ]
  },
  {
   "cell_type": "code",
   "execution_count": null,
   "metadata": {},
   "outputs": [],
   "source": [
    "yaw_left= multi_fly_df.loc[multi_fly_df['stimulus']== 'yaw_left, g_x=12, g_y=0, b_x=0, b_y=0, ch=0'] \n",
    "yaw_right= multi_fly_df.loc[multi_fly_df['stimulus']== 'yaw_right, g_x=12, g_y=0, b_x=0, b_y=0, ch=0'] \n",
    "pitch_up =  multi_fly_df.loc[multi_fly_df['stimulus']== 'roll_clockwise_actually_pitch, g_x=12, g_y=0, b_x=0, b_y=0, ch=0'] \n",
    "pitch_down =  multi_fly_df.loc[multi_fly_df['stimulus']== 'roll_counterclockwise_actually_pitch, g_x=12, g_y=0, b_x=0, b_y=0, ch=0'] \n",
    "roll_cw =  multi_fly_df.loc[multi_fly_df['stimulus']== 'pitch_up_actually_roll, g_x=12, g_y=0, b_x=0, b_y=0, ch=0'] \n",
    "roll_ccw =  multi_fly_df.loc[multi_fly_df['stimulus']== 'pitch_down_actually_roll, g_x=12, g_y=0, b_x=0, b_y=0, ch=0']\n",
    "ol_stripe_left = multi_fly_df.loc[multi_fly_df['stimulus']== 'ol_stripe, g_x=-70, g_y=0, b_x=0, b_y=0, ch=0']\n",
    "ol_stripe_right = multi_fly_df.loc[multi_fly_df['stimulus']== 'ol_stripe, g_x=70, g_y=0, b_x=0, b_y=0, ch=0']\n",
    "stripe_fix = multi_fly_df.loc[multi_fly_df['stimulus']== 'pretrial_stripe_fix']\n"
   ]
  },
  {
   "cell_type": "code",
   "execution_count": null,
   "metadata": {},
   "outputs": [],
   "source": [
    "import pandas as pd\n",
    "from collections import OrderedDict\n",
    "from datetime import date"
   ]
  },
  {
   "cell_type": "code",
   "execution_count": null,
   "metadata": {},
   "outputs": [],
   "source": [
    "pitch_down_WS_decrease = pitch_down.loc[((pitch_down['experimental_condition']=='condition=test'))]\n",
    "\n",
    "pitch_up_WS_increase = pitch_up.loc[((pitch_up['experimental_condition']=='condition=test'))]\n",
    "\n",
    "roll_cw_right_increase = roll_cw.loc[((roll_cw['experimental_condition']=='condition=test'))]\n",
    "\n",
    "roll_ccw_left_increase = roll_ccw.loc[((roll_ccw['experimental_condition']=='condition=test'))]\n",
    "\n",
    "yaw_right_right_increase = yaw_right.loc[((yaw_right['experimental_condition']=='condition=test'))]\n",
    "\n",
    "yaw_left_left_increase = yaw_left.loc[((yaw_left['experimental_condition']=='condition=test'))]"
   ]
  }
 ],
 "metadata": {
  "kernelspec": {
   "display_name": "Python 3",
   "language": "python",
   "name": "python3"
  },
  "language_info": {
   "codemirror_mode": {
    "name": "ipython",
    "version": 3
   },
   "file_extension": ".py",
   "mimetype": "text/x-python",
   "name": "python",
   "nbconvert_exporter": "python",
   "pygments_lexer": "ipython3",
   "version": "3.5.2"
  }
 },
 "nbformat": 4,
 "nbformat_minor": 2
}
