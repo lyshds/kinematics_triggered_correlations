{
 "cells": [
  {
   "cell_type": "code",
   "execution_count": 1,
   "metadata": {},
   "outputs": [],
   "source": [
    "from thllib import flylib as flb\n",
    "from matplotlib import pyplot as plt\n",
    "import numpy as np\n",
    "import scipy\n",
    "from thllib import util\n",
    "import figurefirst as fifi\n",
    "import scipy.signal\n",
    "import local_project_functions as lpf\n",
    "from IPython.display import SVG,display"
   ]
  },
  {
   "cell_type": "code",
   "execution_count": 2,
   "metadata": {},
   "outputs": [],
   "source": [
    "%matplotlib inline"
   ]
  },
  {
   "cell_type": "code",
   "execution_count": 5,
   "metadata": {},
   "outputs": [],
   "source": [
    "flynumbers = list(range(1389,1402))\n",
    "flylist = [flb.NetFly(fnum,rootpath='/media/imager/FlyDataD/FlyDB/') for fnum in flynumbers]\n",
    "l = [fly.open_signals() for fly in flylist]#fly = flylist[4]\n",
    "#fly.open_signals() flylist]"
   ]
  },
  {
   "cell_type": "code",
   "execution_count": 6,
   "metadata": {},
   "outputs": [],
   "source": [
    "flydict = {}\n",
    "for fly in flylist:\n",
    "    flydict[fly.flynum] = fly"
   ]
  },
  {
   "cell_type": "code",
   "execution_count": 12,
   "metadata": {},
   "outputs": [],
   "source": [
    "sorted_keys = sorted(fly.spikestates.keys())\n",
    "\n",
    "cull_list = [('left', 'bkg'),('right', 'bkg'),\n",
    "            ('left', 'iii24'),('right', 'iii24'),\n",
    "            ('left', 'nm'),('right', 'nm'),\n",
    "            ('left', 'pr'),('right', 'pr'),\n",
    "            ('left', 'tpd'),('right', 'tpd'),\n",
    "            ('left', 'iii1'),('right', 'iii1'),\n",
    "            ('left', 'i2'),('right', 'i2'),\n",
    "            ('left', 'b1'),('right', 'b1'),\n",
    "            ('left', 'b2'),('right', 'b2'),\n",
    "            ('left', 'hg2'),('right', 'hg2'),\n",
    "            ('left', 'hg3'),('right', 'hg3'),\n",
    "            ('left', 'hg4'),('right', 'hg4')]\n",
    "\n",
    "for cull in cull_list:\n",
    "    sorted_keys.remove(cull)"
   ]
  },
  {
   "cell_type": "code",
   "execution_count": 13,
   "metadata": {},
   "outputs": [
    {
     "data": {
      "text/plain": [
       "[('left', 'b3'),\n",
       " ('left', 'hg1'),\n",
       " ('left', 'i1'),\n",
       " ('left', 'iii3'),\n",
       " ('right', 'b3'),\n",
       " ('right', 'hg1'),\n",
       " ('right', 'i1'),\n",
       " ('right', 'iii3')]"
      ]
     },
     "execution_count": 13,
     "metadata": {},
     "output_type": "execute_result"
    }
   ],
   "source": [
    "sorted_keys"
   ]
  },
  {
   "cell_type": "code",
   "execution_count": null,
   "metadata": {},
   "outputs": [],
   "source": []
  }
 ],
 "metadata": {
  "kernelspec": {
   "display_name": "Python 2",
   "language": "python",
   "name": "python2"
  },
  "language_info": {
   "codemirror_mode": {
    "name": "ipython",
    "version": 2
   },
   "file_extension": ".py",
   "mimetype": "text/x-python",
   "name": "python",
   "nbconvert_exporter": "python",
   "pygments_lexer": "ipython2",
   "version": "2.7.12"
  }
 },
 "nbformat": 4,
 "nbformat_minor": 2
}
