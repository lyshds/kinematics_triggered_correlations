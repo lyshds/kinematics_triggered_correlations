{
 "cells": [
  {
   "cell_type": "code",
   "execution_count": 5,
   "metadata": {},
   "outputs": [],
   "source": [
    "from matplotlib import pyplot as plt\n",
    "import numpy as np\n",
    "import scipy\n",
    "import flylib as flb\n",
    "from flylib import util\n",
    "import pandas as pd"
   ]
  },
  {
   "cell_type": "code",
   "execution_count": 6,
   "metadata": {},
   "outputs": [
    {
     "name": "stdout",
     "output_type": "stream",
     "text": [
      "Making dataframe for fly number 1540\n",
      "Making dataframe for fly number 1541\n",
      "Making dataframe for fly number 1542\n",
      "Making dataframe for fly number 1543\n",
      "Making dataframe for fly number 1544\n"
     ]
    }
   ],
   "source": [
    "fly_nums = range(1540,1545)\n",
    "multi_fly_df = util.construct_multi_fly_df(\n",
    "    fly_nums)"
   ]
  },
  {
   "cell_type": "code",
   "execution_count": 7,
   "metadata": {},
   "outputs": [
    {
     "name": "stdout",
     "output_type": "stream",
     "text": [
      "['t' 'stimulus' 'amp_diff' 'fly_num' 'pr_left' 'tpd_left' 'nm_left'\n",
      " 'iii1_left' 'iii3_left' 'i2_left' 'hg2_left' 'hg3_left' 'hg1_left'\n",
      " 'i1_left' 'bkg_left' 'b1_left' 'b2_left' 'b3_left' 'iii24_left' 'hg4_left'\n",
      " 'pr_right' 'tpd_right' 'nm_right' 'iii1_right' 'iii3_right' 'i2_right'\n",
      " 'hg2_right' 'hg3_right' 'hg1_right' 'i1_right' 'bkg_right' 'b1_right'\n",
      " 'b2_right' 'b3_right' 'iii24_right' 'hg4_right']\n",
      "['cl_blocks, g_x=-1, g_y=-4, b_x=-8, b_y=0, ch=False'\n",
      " 'cl_blocks, g_x=-1, g_y=-4, b_x=-8, b_y=0, ch=True'\n",
      " 'cl_blocks, g_x=-1, g_y=-4, b_x=0, b_y=0, ch=False'\n",
      " 'cl_blocks, g_x=-1, g_y=-4, b_x=0, b_y=0, ch=True'\n",
      " 'cl_blocks, g_x=-1, g_y=-4, b_x=8, b_y=0, ch=False'\n",
      " 'cl_blocks, g_x=-1, g_y=-4, b_x=8, b_y=0, ch=True'\n",
      " 'cl_blocks, g_x=-1, g_y=0, b_x=-8, b_y=0, ch=False'\n",
      " 'cl_blocks, g_x=-1, g_y=0, b_x=-8, b_y=0, ch=True'\n",
      " 'cl_blocks, g_x=-1, g_y=0, b_x=0, b_y=0, ch=False'\n",
      " 'cl_blocks, g_x=-1, g_y=0, b_x=0, b_y=0, ch=True'\n",
      " 'cl_blocks, g_x=-1, g_y=0, b_x=8, b_y=0, ch=False'\n",
      " 'cl_blocks, g_x=-1, g_y=0, b_x=8, b_y=0, ch=True'\n",
      " 'cl_blocks, g_x=-1, g_y=4, b_x=-8, b_y=0, ch=False'\n",
      " 'cl_blocks, g_x=-1, g_y=4, b_x=-8, b_y=0, ch=True'\n",
      " 'cl_blocks, g_x=-1, g_y=4, b_x=0, b_y=0, ch=False'\n",
      " 'cl_blocks, g_x=-1, g_y=4, b_x=0, b_y=0, ch=True'\n",
      " 'cl_blocks, g_x=-1, g_y=4, b_x=8, b_y=0, ch=False'\n",
      " 'cl_blocks, g_x=-1, g_y=4, b_x=8, b_y=0, ch=True'\n",
      " 'ol_blocks, g_x=-12, g_y=0, b_x=0, b_y=0, ch=0'\n",
      " 'ol_blocks, g_x=-12, g_y=0, b_x=0, b_y=0, ch=1'\n",
      " 'ol_blocks, g_x=0, g_y=-4, b_x=0, b_y=0, ch=0'\n",
      " 'ol_blocks, g_x=0, g_y=-4, b_x=0, b_y=0, ch=1'\n",
      " 'ol_blocks, g_x=0, g_y=0, b_x=0, b_y=0, ch=0'\n",
      " 'ol_blocks, g_x=0, g_y=0, b_x=0, b_y=0, ch=1'\n",
      " 'ol_blocks, g_x=0, g_y=4, b_x=0, b_y=0, ch=0'\n",
      " 'ol_blocks, g_x=0, g_y=4, b_x=0, b_y=0, ch=1'\n",
      " 'ol_blocks, g_x=12, g_y=0, b_x=0, b_y=0, ch=0'\n",
      " 'ol_blocks, g_x=12, g_y=0, b_x=0, b_y=0, ch=1'\n",
      " 'ol_stripe, g_x=-70, g_y=0, b_x=0, b_y=0, ch=0'\n",
      " 'ol_stripe, g_x=-70, g_y=0, b_x=0, b_y=0, ch=1'\n",
      " 'ol_stripe, g_x=70, g_y=0, b_x=0, b_y=0, ch=0'\n",
      " 'ol_stripe, g_x=70, g_y=0, b_x=0, b_y=0, ch=1' 'pretrial_stripe_fix'\n",
      " 'trials_ended']\n"
     ]
    }
   ],
   "source": [
    "print(multi_fly_df.columns.values)\n",
    "print(np.unique(multi_fly_df['stimulus']))\n",
    "\n",
    "idx = (multi_fly_df['stimulus']=='cl_blocks, g_x=-1, g_y=0, b_x=-8, b_y=0, ch=True')& \\\n",
    "        ((multi_fly_df['amp_diff']>0.1)&(multi_fly_df['amp_diff']<0.104))\n",
    "\n",
    "# double_filtered_df = multi_fly_df.loc[idx]\n",
    "# print(double_filtered_df)"
   ]
  },
  {
   "cell_type": "code",
   "execution_count": 10,
   "metadata": {},
   "outputs": [
    {
     "name": "stdout",
     "output_type": "stream",
     "text": [
      "0         False\n",
      "1         False\n",
      "2         False\n",
      "3         False\n",
      "4         False\n",
      "5         False\n",
      "6         False\n",
      "7         False\n",
      "8         False\n",
      "9         False\n",
      "10        False\n",
      "11        False\n",
      "12        False\n",
      "13        False\n",
      "14        False\n",
      "15        False\n",
      "16        False\n",
      "17        False\n",
      "18        False\n",
      "19        False\n",
      "20        False\n",
      "21        False\n",
      "22        False\n",
      "23        False\n",
      "24        False\n",
      "25        False\n",
      "26        False\n",
      "27        False\n",
      "28        False\n",
      "29        False\n",
      "          ...  \n",
      "235870    False\n",
      "235871    False\n",
      "235872    False\n",
      "235873    False\n",
      "235874    False\n",
      "235875    False\n",
      "235876    False\n",
      "235877    False\n",
      "235878    False\n",
      "235879    False\n",
      "235880    False\n",
      "235881    False\n",
      "235882    False\n",
      "235883    False\n",
      "235884    False\n",
      "235885    False\n",
      "235886    False\n",
      "235887    False\n",
      "235888    False\n",
      "235889    False\n",
      "235890    False\n",
      "235891    False\n",
      "235892    False\n",
      "235893    False\n",
      "235894    False\n",
      "235895    False\n",
      "235896    False\n",
      "235897    False\n",
      "235898    False\n",
      "235899    False\n",
      "Length: 235900, dtype: bool\n"
     ]
    }
   ],
   "source": [
    "\n"
   ]
  },
  {
   "cell_type": "code",
   "execution_count": null,
   "metadata": {},
   "outputs": [],
   "source": []
  }
 ],
 "metadata": {
  "kernelspec": {
   "display_name": "Python 2",
   "language": "python",
   "name": "python2"
  },
  "language_info": {
   "codemirror_mode": {
    "name": "ipython",
    "version": 2
   },
   "file_extension": ".py",
   "mimetype": "text/x-python",
   "name": "python",
   "nbconvert_exporter": "python",
   "pygments_lexer": "ipython2",
   "version": "2.7.12"
  }
 },
 "nbformat": 4,
 "nbformat_minor": 2
}
