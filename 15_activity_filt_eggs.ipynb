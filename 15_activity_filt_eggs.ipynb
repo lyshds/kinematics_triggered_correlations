{
 "cells": [
  {
   "cell_type": "code",
   "execution_count": 1,
   "metadata": {},
   "outputs": [],
   "source": [
    "#from thllib import flylib as flb\n",
    "import flylib as flb\n",
    "from matplotlib import pyplot as plt\n",
    "import numpy as np\n",
    "import scipy\n",
    "#from thilib import util\n",
    "import figurefirst as fifi\n",
    "import scipy.signal\n",
    "import local_project_functions as lpf\n",
    "from IPython.display import SVG,display"
   ]
  },
  {
   "cell_type": "code",
   "execution_count": 2,
   "metadata": {},
   "outputs": [],
   "source": [
    "import networkx as nx"
   ]
  },
  {
   "cell_type": "code",
   "execution_count": 3,
   "metadata": {},
   "outputs": [],
   "source": [
    "%matplotlib inline"
   ]
  },
  {
   "cell_type": "code",
   "execution_count": 4,
   "metadata": {},
   "outputs": [],
   "source": [
    "#flynumbers = 1548 #list(range(1389,1402))\n",
    "flynumbers = list(range(1548,1549))\n",
    "flylist = [flb.NetFly(fnum,rootpath='/media/imager/FlyDataD/FlyDB/') for fnum in flynumbers]\n",
    "l = [fly.open_signals() for fly in flylist]\n",
    "#fly = flylist[4]\n",
    "#fly.open_signals()"
   ]
  },
  {
   "cell_type": "code",
   "execution_count": 5,
   "metadata": {},
   "outputs": [
    {
     "data": {
      "text/plain": [
       "{'cl_blocks, g_x=-1, g_y=-4, b_x=-8, b_y=0, ch=0',\n",
       " 'cl_blocks, g_x=-1, g_y=-4, b_x=-8, b_y=0, ch=1',\n",
       " 'cl_blocks, g_x=-1, g_y=-4, b_x=0, b_y=0, ch=0',\n",
       " 'cl_blocks, g_x=-1, g_y=-4, b_x=0, b_y=0, ch=1',\n",
       " 'cl_blocks, g_x=-1, g_y=-4, b_x=8, b_y=0, ch=0',\n",
       " 'cl_blocks, g_x=-1, g_y=-4, b_x=8, b_y=0, ch=1',\n",
       " 'cl_blocks, g_x=-1, g_y=0, b_x=-8, b_y=0, ch=0',\n",
       " 'cl_blocks, g_x=-1, g_y=0, b_x=-8, b_y=0, ch=1',\n",
       " 'cl_blocks, g_x=-1, g_y=0, b_x=0, b_y=0, ch=0',\n",
       " 'cl_blocks, g_x=-1, g_y=0, b_x=0, b_y=0, ch=1',\n",
       " 'cl_blocks, g_x=-1, g_y=0, b_x=8, b_y=0, ch=0',\n",
       " 'cl_blocks, g_x=-1, g_y=0, b_x=8, b_y=0, ch=1',\n",
       " 'cl_blocks, g_x=-1, g_y=4, b_x=-8, b_y=0, ch=0',\n",
       " 'cl_blocks, g_x=-1, g_y=4, b_x=-8, b_y=0, ch=1',\n",
       " 'cl_blocks, g_x=-1, g_y=4, b_x=0, b_y=0, ch=0',\n",
       " 'cl_blocks, g_x=-1, g_y=4, b_x=0, b_y=0, ch=1',\n",
       " 'cl_blocks, g_x=-1, g_y=4, b_x=8, b_y=0, ch=0',\n",
       " 'cl_blocks, g_x=-1, g_y=4, b_x=8, b_y=0, ch=1',\n",
       " 'ol_blocks, g_x=-12, g_y=0, b_x=0, b_y=0, ch=0',\n",
       " 'ol_blocks, g_x=-12, g_y=0, b_x=0, b_y=0, ch=1',\n",
       " 'ol_blocks, g_x=0, g_y=-4, b_x=0, b_y=0, ch=0',\n",
       " 'ol_blocks, g_x=0, g_y=-4, b_x=0, b_y=0, ch=1',\n",
       " 'ol_blocks, g_x=0, g_y=0, b_x=0, b_y=0, ch=0',\n",
       " 'ol_blocks, g_x=0, g_y=0, b_x=0, b_y=0, ch=1',\n",
       " 'ol_blocks, g_x=0, g_y=4, b_x=0, b_y=0, ch=0',\n",
       " 'ol_blocks, g_x=0, g_y=4, b_x=0, b_y=0, ch=1',\n",
       " 'ol_blocks, g_x=12, g_y=0, b_x=0, b_y=0, ch=0',\n",
       " 'ol_blocks, g_x=12, g_y=0, b_x=0, b_y=0, ch=1',\n",
       " 'ol_stripe, g_x=-70, g_y=0, b_x=0, b_y=0, ch=0',\n",
       " 'ol_stripe, g_x=-70, g_y=0, b_x=0, b_y=0, ch=1',\n",
       " 'ol_stripe, g_x=70, g_y=0, b_x=0, b_y=0, ch=0',\n",
       " 'ol_stripe, g_x=70, g_y=0, b_x=0, b_y=0, ch=1',\n",
       " 'pretrial_stripe_fix',\n",
       " 'trials_ended'}"
      ]
     },
     "execution_count": 5,
     "metadata": {},
     "output_type": "execute_result"
    }
   ],
   "source": [
    "fly = flylist[0]\n",
    "\n",
    "set(fly.experimental_block)"
   ]
  },
  {
   "cell_type": "code",
   "execution_count": 6,
   "metadata": {},
   "outputs": [],
   "source": [
    "from matplotlib import pyplot as plt\n",
    "import numpy as np\n",
    "import scipy\n",
    "import flylib as flb\n",
    "from flylib import util\n",
    "import pandas as pd"
   ]
  },
  {
   "cell_type": "code",
   "execution_count": 7,
   "metadata": {},
   "outputs": [],
   "source": [
    "fly = flb.NetFly(1540)\n",
    "# fly = flb.NetFly(1548,rootpath='/home/annie/work/programming/fly_muscle_data/')\n",
    "fly.open_signals()"
   ]
  },
  {
   "cell_type": "code",
   "execution_count": 8,
   "metadata": {},
   "outputs": [],
   "source": [
    "flydf = pd.DataFrame()\n",
    "\n",
    "flydf['t'] = fly.time\n",
    "flydf['stimulus'] = np.array(fly.experimental_block)\n",
    "flydf['amp_diff'] = np.array(fly.left_amp)-np.array(fly.right_amp)\n",
    "#flydf['fly'] = 1540*np.ones(np.shape(fly.time))"
   ]
  },
  {
   "cell_type": "code",
   "execution_count": 9,
   "metadata": {},
   "outputs": [
    {
     "name": "stdout",
     "output_type": "stream",
     "text": [
      "          t             stimulus  amp_diff   pr_left  tpd_left   nm_left  \\\n",
      "0  0.000000  pretrial_stripe_fix  0.185503  2.703613  0.863035  3.489588   \n",
      "1  0.020000  pretrial_stripe_fix  0.185503  2.667471  0.869201  3.426261   \n",
      "2  0.040001  pretrial_stripe_fix  0.178633  2.608151  0.860391  3.430599   \n",
      "3  0.060001  pretrial_stripe_fix  0.137410  2.673651  0.887700  3.633793   \n",
      "4  0.080002  pretrial_stripe_fix  0.137410  2.592044  0.897104  3.566391   \n",
      "\n",
      "   iii1_left  iii3_left   i2_left  hg2_left    ...      hg2_right  hg3_right  \\\n",
      "0   0.322758   4.536879  0.690521  4.848203    ...      11.044966        0.0   \n",
      "1   0.319606   4.593572  0.670703  4.991345    ...      10.964133        0.0   \n",
      "2   0.312846   4.550831  0.738452  4.877467    ...      11.225533        0.0   \n",
      "3   0.340096   4.665894  0.675743  4.945966    ...      11.518416        0.0   \n",
      "4   0.328254   4.673340  0.711561  5.062158    ...      11.163396        0.0   \n",
      "\n",
      "   hg1_right  i1_right  bkg_right  b1_right  b2_right  b3_right  iii24_right  \\\n",
      "0   1.362389  0.688812  27.221668  2.742323  0.281854  4.400957     1.059696   \n",
      "1   1.257298  0.679382  27.198694  2.743435  0.302939  4.336007     1.117894   \n",
      "2   1.328435  0.691639  27.021550  2.737161  0.303067  4.357544     1.165023   \n",
      "3   1.295001  0.733130  27.580121  2.829230  0.297652  4.492976     1.167250   \n",
      "4   1.274767  0.695723  27.494741  2.830664  0.302635  4.334180     1.143151   \n",
      "\n",
      "   hg4_right  \n",
      "0   0.747307  \n",
      "1   0.707715  \n",
      "2   0.743187  \n",
      "3   0.661178  \n",
      "4   0.440918  \n",
      "\n",
      "[5 rows x 35 columns]\n"
     ]
    }
   ],
   "source": [
    "for (key,value) in fly.ca_cam_left_model_fits.items():\n",
    "    flydf[key+'_left'] = value\n",
    "for (key,value) in fly.ca_cam_right_model_fits.items():\n",
    "    flydf[key+'_right'] = value\n",
    "\n",
    "# flydf['ca_pixel_left'] = fly.ca_cam_left #this is really big (obvs)\n",
    "print(flydf.head())"
   ]
  },
  {
   "cell_type": "code",
   "execution_count": 10,
   "metadata": {},
   "outputs": [
    {
     "name": "stdout",
     "output_type": "stream",
     "text": [
      "['cl_blocks, g_x=-1, g_y=-4, b_x=-8, b_y=0, ch=False'\n",
      " 'cl_blocks, g_x=-1, g_y=-4, b_x=-8, b_y=0, ch=True'\n",
      " 'cl_blocks, g_x=-1, g_y=-4, b_x=0, b_y=0, ch=False'\n",
      " 'cl_blocks, g_x=-1, g_y=-4, b_x=0, b_y=0, ch=True'\n",
      " 'cl_blocks, g_x=-1, g_y=-4, b_x=8, b_y=0, ch=False'\n",
      " 'cl_blocks, g_x=-1, g_y=-4, b_x=8, b_y=0, ch=True'\n",
      " 'cl_blocks, g_x=-1, g_y=0, b_x=-8, b_y=0, ch=False'\n",
      " 'cl_blocks, g_x=-1, g_y=0, b_x=-8, b_y=0, ch=True'\n",
      " 'cl_blocks, g_x=-1, g_y=0, b_x=0, b_y=0, ch=False'\n",
      " 'cl_blocks, g_x=-1, g_y=0, b_x=0, b_y=0, ch=True'\n",
      " 'cl_blocks, g_x=-1, g_y=0, b_x=8, b_y=0, ch=False'\n",
      " 'cl_blocks, g_x=-1, g_y=0, b_x=8, b_y=0, ch=True'\n",
      " 'cl_blocks, g_x=-1, g_y=4, b_x=-8, b_y=0, ch=False'\n",
      " 'cl_blocks, g_x=-1, g_y=4, b_x=-8, b_y=0, ch=True'\n",
      " 'cl_blocks, g_x=-1, g_y=4, b_x=0, b_y=0, ch=False'\n",
      " 'cl_blocks, g_x=-1, g_y=4, b_x=0, b_y=0, ch=True'\n",
      " 'cl_blocks, g_x=-1, g_y=4, b_x=8, b_y=0, ch=False'\n",
      " 'cl_blocks, g_x=-1, g_y=4, b_x=8, b_y=0, ch=True'\n",
      " 'ol_blocks, g_x=-12, g_y=0, b_x=0, b_y=0, ch=0'\n",
      " 'ol_blocks, g_x=-12, g_y=0, b_x=0, b_y=0, ch=1'\n",
      " 'ol_blocks, g_x=0, g_y=-4, b_x=0, b_y=0, ch=0'\n",
      " 'ol_blocks, g_x=0, g_y=-4, b_x=0, b_y=0, ch=1'\n",
      " 'ol_blocks, g_x=0, g_y=0, b_x=0, b_y=0, ch=0'\n",
      " 'ol_blocks, g_x=0, g_y=0, b_x=0, b_y=0, ch=1'\n",
      " 'ol_blocks, g_x=0, g_y=4, b_x=0, b_y=0, ch=0'\n",
      " 'ol_blocks, g_x=0, g_y=4, b_x=0, b_y=0, ch=1'\n",
      " 'ol_blocks, g_x=12, g_y=0, b_x=0, b_y=0, ch=0'\n",
      " 'ol_blocks, g_x=12, g_y=0, b_x=0, b_y=0, ch=1'\n",
      " 'ol_stripe, g_x=-70, g_y=0, b_x=0, b_y=0, ch=0'\n",
      " 'ol_stripe, g_x=-70, g_y=0, b_x=0, b_y=0, ch=1'\n",
      " 'ol_stripe, g_x=70, g_y=0, b_x=0, b_y=0, ch=0'\n",
      " 'ol_stripe, g_x=70, g_y=0, b_x=0, b_y=0, ch=1' 'pretrial_stripe_fix'\n",
      " 'trials_ended']\n"
     ]
    }
   ],
   "source": [
    "print(np.unique(flydf['stimulus']))"
   ]
  },
  {
   "cell_type": "code",
   "execution_count": 11,
   "metadata": {},
   "outputs": [
    {
     "name": "stdout",
     "output_type": "stream",
     "text": [
      "['t' 'stimulus' 'amp_diff' 'pr_left' 'tpd_left' 'nm_left' 'iii1_left'\n",
      " 'iii3_left' 'i2_left' 'hg2_left' 'hg3_left' 'hg1_left' 'i1_left'\n",
      " 'bkg_left' 'b1_left' 'b2_left' 'b3_left' 'iii24_left' 'hg4_left'\n",
      " 'pr_right' 'tpd_right' 'nm_right' 'iii1_right' 'iii3_right' 'i2_right'\n",
      " 'hg2_right' 'hg3_right' 'hg1_right' 'i1_right' 'bkg_right' 'b1_right'\n",
      " 'b2_right' 'b3_right' 'iii24_right' 'hg4_right']\n"
     ]
    }
   ],
   "source": [
    "print(flydf.columns.values)"
   ]
  },
  {
   "cell_type": "code",
   "execution_count": 12,
   "metadata": {},
   "outputs": [
    {
     "name": "stdout",
     "output_type": "stream",
     "text": [
      "              t                                          stimulus  amp_diff  \\\n",
      "2926  58.521124  cl_blocks, g_x=-1, g_y=0, b_x=-8, b_y=0, ch=True  0.130539   \n",
      "2927  58.541125  cl_blocks, g_x=-1, g_y=0, b_x=-8, b_y=0, ch=True  0.075575   \n",
      "2928  58.561125  cl_blocks, g_x=-1, g_y=0, b_x=-8, b_y=0, ch=True  0.075575   \n",
      "2929  58.581125  cl_blocks, g_x=-1, g_y=0, b_x=-8, b_y=0, ch=True  0.082446   \n",
      "2930  58.601126  cl_blocks, g_x=-1, g_y=0, b_x=-8, b_y=0, ch=True  0.096187   \n",
      "\n",
      "       pr_left  tpd_left   nm_left  iii1_left  iii3_left   i2_left  hg2_left  \\\n",
      "2926  2.428793  1.042408  3.566146   0.393616   4.872166  0.824834  6.866513   \n",
      "2927  2.401159  0.979981  3.515217   0.385504   4.889001  0.774306  7.008298   \n",
      "2928  2.461573  1.022985  3.677320   0.401066   5.049933  0.824622  7.096528   \n",
      "2929  2.384257  1.060238  3.488397   0.384293   4.887157  0.775859  7.110548   \n",
      "2930  2.376420  1.015099  3.530162   0.406915   4.942535  0.793341  6.976173   \n",
      "\n",
      "        ...      hg2_right  hg3_right  hg1_right  i1_right  bkg_right  \\\n",
      "2926    ...      11.080471        0.0   2.281085  0.850228  27.892627   \n",
      "2927    ...      11.903943        0.0   2.612098  0.877623  27.775222   \n",
      "2928    ...      13.598005        0.0   2.914288  0.915706  28.210998   \n",
      "2929    ...      12.857462        0.0   2.817350  0.952567  27.560069   \n",
      "2930    ...      13.357210        0.0   2.752711  0.943575  27.841458   \n",
      "\n",
      "      b1_right  b2_right  b3_right  iii24_right  hg4_right  \n",
      "2926  2.803429  0.300208  4.745795     0.803657   0.755901  \n",
      "2927  2.801162  0.291436  4.877617     0.901152   1.054265  \n",
      "2928  2.875717  0.321344  4.982600     0.788190   1.077819  \n",
      "2929  2.783736  0.319836  4.833775     0.673698   1.023271  \n",
      "2930  2.821453  0.303760  4.793077     0.755142   0.767215  \n",
      "\n",
      "[5 rows x 35 columns]\n"
     ]
    }
   ],
   "source": [
    "#Here is an example of how to filter for rows of a certain column value\n",
    "filtered_df = flydf.loc[flydf['stimulus']=='cl_blocks, g_x=-1, g_y=0, b_x=-8, b_y=0, ch=True']\n",
    "\n",
    "print(filtered_df.head())"
   ]
  },
  {
   "cell_type": "code",
   "execution_count": 13,
   "metadata": {},
   "outputs": [
    {
     "name": "stdout",
     "output_type": "stream",
     "text": [
      "              t                                          stimulus  amp_diff  \\\n",
      "2926  58.521124  cl_blocks, g_x=-1, g_y=0, b_x=-8, b_y=0, ch=True  0.130539   \n",
      "2931  58.621126  cl_blocks, g_x=-1, g_y=0, b_x=-8, b_y=0, ch=True  0.123669   \n",
      "2933  58.661127  cl_blocks, g_x=-1, g_y=0, b_x=-8, b_y=0, ch=True  0.103057   \n",
      "2938  58.761129  cl_blocks, g_x=-1, g_y=0, b_x=-8, b_y=0, ch=True  0.109928   \n",
      "2939  58.781129  cl_blocks, g_x=-1, g_y=0, b_x=-8, b_y=0, ch=True  0.123669   \n",
      "\n",
      "       pr_left  tpd_left   nm_left  iii1_left  iii3_left   i2_left  hg2_left  \\\n",
      "2926  2.428793  1.042408  3.566146   0.393616   4.872166  0.824834  6.866513   \n",
      "2931  2.408667  0.999164  3.566438   0.399568   4.966012  0.810405  6.502571   \n",
      "2933  2.391620  0.952811  3.633092   0.385055   4.914978  0.812826  6.732488   \n",
      "2938  2.508418  1.009264  3.498011   0.419274   4.983344  0.807610  6.597990   \n",
      "2939  2.562687  1.024489  3.447573   0.422631   4.999176  0.791291  6.432494   \n",
      "\n",
      "        ...      hg2_right  hg3_right  hg1_right  i1_right  bkg_right  \\\n",
      "2926    ...      11.080471        0.0   2.281085  0.850228  27.892627   \n",
      "2931    ...      13.308254        0.0   2.757894  0.916980  27.745610   \n",
      "2933    ...      12.464915        0.0   2.623969  0.926853  27.694844   \n",
      "2938    ...      14.079154        0.0   3.598223  0.942940  27.844841   \n",
      "2939    ...      14.462260        0.0   4.080382  0.951774  27.760110   \n",
      "\n",
      "      b1_right  b2_right  b3_right  iii24_right  hg4_right  \n",
      "2926  2.803429  0.300208  4.745795     0.803657   0.755901  \n",
      "2931  2.816000  0.318143  4.845333     0.759312   0.998550  \n",
      "2933  2.789263  0.324317  4.885860     0.744605   0.872282  \n",
      "2938  2.825498  0.329761  4.908370     0.244388   1.139204  \n",
      "2939  2.808061  0.310820  4.963353     0.000000   1.222339  \n",
      "\n",
      "[5 rows x 35 columns]\n"
     ]
    }
   ],
   "source": [
    "#Or for a combination of column values\n",
    "idx = (flydf['stimulus']=='cl_blocks, g_x=-1, g_y=0, b_x=-8, b_y=0, ch=True')& \\\n",
    "        (flydf['amp_diff']>0.1)\n",
    "\n",
    "double_filtered_df = flydf.loc[idx]\n",
    "\n",
    "print(double_filtered_df.head())"
   ]
  },
  {
   "cell_type": "code",
   "execution_count": 14,
   "metadata": {},
   "outputs": [
    {
     "name": "stdout",
     "output_type": "stream",
     "text": [
      "(2075, 1)\n"
     ]
    }
   ],
   "source": [
    "#Access calcium values for a specific muscle and specific stimulus\n",
    "pretrial_stripe_fix_b2_right = flydf.loc[\n",
    "    flydf['stimulus']=='pretrial_stripe_fix',['b2_right']]\n",
    "\n",
    "print(np.shape(pretrial_stripe_fix_b2_right))\n",
    "\n",
    "#https://www.shanelynn.ie/select-pandas-dataframe-rows-and-columns-using-iloc-loc-and-ix/"
   ]
  },
  {
   "cell_type": "code",
   "execution_count": null,
   "metadata": {},
   "outputs": [],
   "source": []
  },
  {
   "cell_type": "code",
   "execution_count": 45,
   "metadata": {},
   "outputs": [
    {
     "ename": "TypeError",
     "evalue": "can only concatenate list (not \"str\") to list",
     "output_type": "error",
     "traceback": [
      "\u001b[0;31m\u001b[0m",
      "\u001b[0;31mTypeError\u001b[0mTraceback (most recent call last)",
      "\u001b[0;32m<ipython-input-45-69efc3952375>\u001b[0m in \u001b[0;36m<module>\u001b[0;34m()\u001b[0m\n\u001b[1;32m      1\u001b[0m \u001b[0;31m#print(filtered_df[key+'_right'])\u001b[0m\u001b[0;34m\u001b[0m\u001b[0;34m\u001b[0m\u001b[0m\n\u001b[1;32m      2\u001b[0m \u001b[0;34m\u001b[0m\u001b[0m\n\u001b[0;32m----> 3\u001b[0;31m \u001b[0mleft_sorted_keys\u001b[0m \u001b[0;34m=\u001b[0m \u001b[0msorted\u001b[0m\u001b[0;34m(\u001b[0m\u001b[0mfly\u001b[0m\u001b[0;34m.\u001b[0m\u001b[0mca_cam_left_model_fits\u001b[0m\u001b[0;34m.\u001b[0m\u001b[0mkeys\u001b[0m\u001b[0;34m(\u001b[0m\u001b[0;34m)\u001b[0m\u001b[0;34m+\u001b[0m\u001b[0;34m'_right'\u001b[0m\u001b[0;34m)\u001b[0m\u001b[0;34m\u001b[0m\u001b[0m\n\u001b[0m\u001b[1;32m      4\u001b[0m \u001b[0;34m\u001b[0m\u001b[0m\n\u001b[1;32m      5\u001b[0m \u001b[0;34m\u001b[0m\u001b[0m\n",
      "\u001b[0;31mTypeError\u001b[0m: can only concatenate list (not \"str\") to list"
     ]
    }
   ],
   "source": [
    "#print(filtered_df[key+'_right'])\n",
    "\n",
    "left_sorted_keys = sorted(fly.ca_cam_left_model_fits.keys()+'_right')\n",
    "\n",
    "\n",
    "print(sorted(fly.ca_cam_left_model_fits.keys()))\n"
   ]
  },
  {
   "cell_type": "code",
   "execution_count": 37,
   "metadata": {},
   "outputs": [],
   "source": [
    "state_mtrx = np.vstack([filtered_df[key+'_right'] for key in sorted_keys])\n"
   ]
  },
  {
   "cell_type": "code",
   "execution_count": 40,
   "metadata": {},
   "outputs": [
    {
     "ename": "ValueError",
     "evalue": "list.remove(x): x not in list",
     "output_type": "error",
     "traceback": [
      "\u001b[0;31m\u001b[0m",
      "\u001b[0;31mValueError\u001b[0mTraceback (most recent call last)",
      "\u001b[0;32m<ipython-input-40-99aca1b981d4>\u001b[0m in \u001b[0;36m<module>\u001b[0;34m()\u001b[0m\n\u001b[1;32m     10\u001b[0m \u001b[0;34m\u001b[0m\u001b[0m\n\u001b[1;32m     11\u001b[0m \u001b[0;32mfor\u001b[0m \u001b[0mcull\u001b[0m \u001b[0;32min\u001b[0m \u001b[0mcull_list\u001b[0m\u001b[0;34m:\u001b[0m\u001b[0;34m\u001b[0m\u001b[0m\n\u001b[0;32m---> 12\u001b[0;31m     \u001b[0msorted_keys\u001b[0m\u001b[0;34m.\u001b[0m\u001b[0mremove\u001b[0m\u001b[0;34m(\u001b[0m\u001b[0mcull\u001b[0m\u001b[0;34m)\u001b[0m\u001b[0;34m\u001b[0m\u001b[0m\n\u001b[0m\u001b[1;32m     13\u001b[0m \u001b[0;31m#[sorted_keys.remove(cull) for cull in cull_list]\u001b[0m\u001b[0;34m\u001b[0m\u001b[0;34m\u001b[0m\u001b[0m\n\u001b[1;32m     14\u001b[0m \u001b[0;34m\u001b[0m\u001b[0m\n",
      "\u001b[0;31mValueError\u001b[0m: list.remove(x): x not in list"
     ]
    },
    {
     "data": {
      "image/png": "[encoded data removed]",
      "text/plain": [
       "<matplotlib.figure.Figure at 0x7faa27630950>"
      ]
     },
     "metadata": {},
     "output_type": "display_data"
    }
   ],
   "source": [
    "\n",
    "layout = fifi.FigureLayout('graph_layout.svg',make_mplfigures=True)\n",
    "\n",
    "\n",
    "cull_list = [('left', 'bkg'),('right', 'bkg'),\n",
    "            ('left', 'iii24'),('right', 'iii24'),\n",
    "            ('left', 'nm'),('right', 'nm'),\n",
    "            ('left', 'pr'),('right', 'pr'),\n",
    "            ('left', 'tpd'),('right', 'tpd')]\n",
    "\n",
    "[('left', 'bkg'),('right', 'bkg'),\n",
    "            ('left', 'iii24'),('right', 'iii24'),\n",
    "            ('left', 'nm'),('right', 'nm'),\n",
    "            ('left', 'pr'),('right', 'pr'),\n",
    "            ('left', 'tpd'),('right', 'tpd')]\n",
    "\n",
    "for cull in cull_list:\n",
    "    sorted_keys.remove(cull)\n",
    "#[sorted_keys.remove(cull) for cull in cull_list]\n",
    "\n",
    "\n",
    "\n",
    "graphs = {}\n",
    "for fly in flylist:\n",
    "    #state_mtrx = np.vstack([fly.spikestates[key] for key in sorted_keys])\n",
    "    state_mtrx = np.vstack([filtered_df[key+'_right'] for key in sorted_keys])\n",
    "    centered_mtrx = state_mtrx - np.mean(state_mtrx,axis = 1)[:,None]\n",
    "    std_mtrx = centered_mtrx/np.std(centered_mtrx,axis = 1)[:,None]\n",
    "    cor_mtrx = np.dot(std_mtrx,std_mtrx.T)\n",
    "    G = nx.Graph()\n",
    "    for i,lbl1 in enumerate(sorted_keys):\n",
    "        for j,lbl2 in enumerate(sorted_keys):\n",
    "            G.add_edge(lbl1,lbl2,weight = cor_mtrx[i,j])\n",
    "    graphs[fly.flynum] = G\n",
    "\n",
    "edges = G.edges\n",
    "c_ex = layout.pathspecs['excitatory'].mplkwargs()['edgecolor']\n",
    "c_in = layout.pathspecs['inhibitory'].mplkwargs()['edgecolor']\n",
    "colors = [{True:c_ex,False:c_in}[G[e[0]][e[1]]['weight']>0.] for e in edges]\n",
    "\n",
    "\n",
    "\n",
    "h = float(layout.layout_uh)\n",
    "pos_dict = {}\n",
    "for n in G.nodes:\n",
    "    n_s = '%s_%s'%(n[0][0].capitalize(),n[1])\n",
    "    cx = float(layout.pathspecs[n_s]['cx'])\n",
    "    cy = h-float(layout.pathspecs[n_s]['cy'])\n",
    "    try:\n",
    "        if 'transform' in layout.pathspecs[n_s].keys():\n",
    "            t1 = fifi.svg_to_axes.parse_transform(layout.pathspecs[n_s]['transform'])\n",
    "            p = np.dot(t1,np.array([cx,cy,1]))\n",
    "            pos_dict[n] = (p[0],p[1])\n",
    "        else:\n",
    "            pos_dict[n]  = (cx,cy)\n",
    "    except KeyError:\n",
    "        print n\n",
    "\n",
    "for flynum,G in graphs.items():\n",
    "    edges= G.edges\n",
    "    weights = [np.abs(G[e[0]][e[1]]['weight'])**2.6/100000000000. for e in edges]\n",
    "    nx.draw(G,\n",
    "            ax = layout.axes['network_graph_layout'],\n",
    "            pos = pos_dict,\n",
    "            font_color = 'r',\n",
    "            with_labels= False,\n",
    "            width = weights,\n",
    "            edge_color = colors,\n",
    "            node_color = 'k',\n",
    "            alpha = 0.1)\n",
    "\n",
    "    \n",
    "    \n",
    "layout.axes['network_graph_layout'].set_ybound(0,layout.axes['network_graph_layout'].h)\n",
    "layout.axes['network_graph_layout'].set_xbound(0,layout.axes['network_graph_layout'].w)\n",
    "\n",
    "layout.save('graph.svg')\n",
    "plt.close('all')\n",
    "display(SVG('graph.svg'))"
   ]
  },
  {
   "cell_type": "code",
   "execution_count": null,
   "metadata": {},
   "outputs": [],
   "source": []
  },
  {
   "cell_type": "code",
   "execution_count": null,
   "metadata": {},
   "outputs": [],
   "source": []
  },
  {
   "cell_type": "code",
   "execution_count": null,
   "metadata": {},
   "outputs": [],
   "source": []
  }
 ],
 "metadata": {
  "kernelspec": {
   "display_name": "Python 2",
   "language": "python",
   "name": "python2"
  },
  "language_info": {
   "codemirror_mode": {
    "name": "ipython",
    "version": 2
   },
   "file_extension": ".py",
   "mimetype": "text/x-python",
   "name": "python",
   "nbconvert_exporter": "python",
   "pygments_lexer": "ipython2",
   "version": "2.7.12"
  }
 },
 "nbformat": 4,
 "nbformat_minor": 2
}
