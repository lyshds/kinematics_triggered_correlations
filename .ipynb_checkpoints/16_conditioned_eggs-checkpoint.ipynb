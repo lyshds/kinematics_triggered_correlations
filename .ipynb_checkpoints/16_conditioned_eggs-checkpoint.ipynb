{
 "cells": [
  {
   "cell_type": "code",
   "execution_count": 22,
   "metadata": {},
   "outputs": [],
   "source": [
    "import flylib as flb\n",
    "#from thllib import flylib as flb\n",
    "import flylib as flb\n",
    "from matplotlib import pyplot as plt\n",
    "import numpy as np\n",
    "import scipy\n",
    "from flylib import util\n",
    "import figurefirst as fifi\n",
    "import scipy.signal\n",
    "#import local_project_functions as lpf\n",
    "from IPython.display import SVG,display\n"
   ]
  },
  {
   "cell_type": "code",
   "execution_count": 32,
   "metadata": {},
   "outputs": [],
   "source": [
    "import networkx as nx"
   ]
  },
  {
   "cell_type": "code",
   "execution_count": 23,
   "metadata": {},
   "outputs": [],
   "source": [
    "#flynumbers = 1548 #list(range(1389,1402))\n",
    "flynumbers = list(range(1548,1549))\n",
    "flylist = [flb.NetFly(fnum,rootpath='/media/imager/FlyDataD/FlyDB/') for fnum in flynumbers]\n",
    "l = [fly.open_signals() for fly in flylist]\n",
    "#fly = flylist[4]\n",
    "#fly.open_signals()"
   ]
  },
  {
   "cell_type": "code",
   "execution_count": 24,
   "metadata": {},
   "outputs": [],
   "source": [
    "fly = flylist[0]"
   ]
  },
  {
   "cell_type": "code",
   "execution_count": 25,
   "metadata": {},
   "outputs": [],
   "source": [
    "flydf=fly.construct_dataframe()"
   ]
  },
  {
   "cell_type": "code",
   "execution_count": 26,
   "metadata": {},
   "outputs": [],
   "source": [
    "#fly =flylib.Netfly('1540')"
   ]
  },
  {
   "cell_type": "code",
   "execution_count": 27,
   "metadata": {},
   "outputs": [
    {
     "name": "stdout",
     "output_type": "stream",
     "text": [
      "(3245, 1)\n"
     ]
    }
   ],
   "source": [
    "#Access calcium values for a specific muscle and specific stimulus\n",
    "pretrial_stripe_fix_b2_right = flydf.loc[\n",
    "    flydf['stimulus']=='pretrial_stripe_fix',['b2_right']]\n",
    "\n",
    "print(np.shape(pretrial_stripe_fix_b2_right))\n",
    "\n",
    "#https://www.shanelynn.ie/select-pandas-dataframe-rows-and-columns-using-iloc-loc-and-ix/"
   ]
  },
  {
   "cell_type": "code",
   "execution_count": 28,
   "metadata": {},
   "outputs": [
    {
     "name": "stdout",
     "output_type": "stream",
     "text": [
      "['b1', 'b2', 'b3', 'bkg', 'hg1', 'hg2', 'hg3', 'hg4', 'i1', 'i2', 'iii1', 'iii24', 'iii3', 'nm', 'pr', 'tpd']\n"
     ]
    }
   ],
   "source": [
    "#print(filtered_df[key+'_right'])\n",
    "\n",
    "general_sorted_keys = sorted(fly.ca_cam_left_model_fits.keys())\n",
    "print(sorted(fly.ca_cam_left_model_fits.keys()))\n",
    "\n",
    "sorted_keys = []\n",
    "\n",
    "for key in general_sorted_keys:\n",
    "    key2= key+'_right'\n",
    "    key3= key+'_left'\n",
    "    sorted_keys.append(key2)\n",
    "    sorted_keys.append(key3)\n",
    "    \n",
    "#print(sorted_keys)"
   ]
  },
  {
   "cell_type": "code",
   "execution_count": 29,
   "metadata": {},
   "outputs": [
    {
     "name": "stdout",
     "output_type": "stream",
     "text": [
      "Empty DataFrame\n",
      "Columns: [t, stimulus, amp_diff, pr_left, tpd_left, nm_left, iii1_left, iii3_left, i2_left, hg2_left, hg3_left, hg1_left, i1_left, bkg_left, b1_left, b2_left, b3_left, iii24_left, hg4_left, pr_right, tpd_right, nm_right, iii1_right, iii3_right, i2_right, hg2_right, hg3_right, hg1_right, i1_right, bkg_right, b1_right, b2_right, b3_right, iii24_right, hg4_right]\n",
      "Index: []\n",
      "\n",
      "[0 rows x 35 columns]\n"
     ]
    }
   ],
   "source": [
    "filtered_df = flydf.loc[flydf['stimulus']=='cl_blocks, g_x=-1, g_y=0, b_x=-8, b_y=0, ch=True']\n",
    "\n",
    "print(filtered_df.head())"
   ]
  },
  {
   "cell_type": "code",
   "execution_count": 30,
   "metadata": {},
   "outputs": [],
   "source": [
    "state_mtrx = np.vstack([filtered_df[key] for key in sorted_keys])"
   ]
  },
  {
   "cell_type": "code",
   "execution_count": null,
   "metadata": {},
   "outputs": [],
   "source": []
  },
  {
   "cell_type": "code",
   "execution_count": null,
   "metadata": {},
   "outputs": [],
   "source": []
  },
  {
   "cell_type": "code",
   "execution_count": null,
   "metadata": {},
   "outputs": [],
   "source": []
  },
  {
   "cell_type": "code",
   "execution_count": null,
   "metadata": {},
   "outputs": [],
   "source": [
    "#layout = fifi.FigureLayout('graph_layout.svg',make_mplfigures=True)"
   ]
  },
  {
   "cell_type": "code",
   "execution_count": 36,
   "metadata": {},
   "outputs": [
    {
     "ename": "IOError",
     "evalue": "[Errno 2] No such file or directory: 'graph_layout.svg'",
     "output_type": "error",
     "traceback": [
      "\u001b[0;31m\u001b[0m",
      "\u001b[0;31mIOError\u001b[0mTraceback (most recent call last)",
      "\u001b[0;32m<ipython-input-36-d81ff8d344a3>\u001b[0m in \u001b[0;36m<module>\u001b[0;34m()\u001b[0m\n\u001b[1;32m      6\u001b[0m '''\n\u001b[1;32m      7\u001b[0m \u001b[0;34m\u001b[0m\u001b[0m\n\u001b[0;32m----> 8\u001b[0;31m \u001b[0mlayout\u001b[0m \u001b[0;34m=\u001b[0m \u001b[0mfifi\u001b[0m\u001b[0;34m.\u001b[0m\u001b[0mFigureLayout\u001b[0m\u001b[0;34m(\u001b[0m\u001b[0;34m'graph_layout.svg'\u001b[0m\u001b[0;34m,\u001b[0m\u001b[0mmake_mplfigures\u001b[0m\u001b[0;34m=\u001b[0m\u001b[0mTrue\u001b[0m\u001b[0;34m)\u001b[0m\u001b[0;34m\u001b[0m\u001b[0m\n\u001b[0m\u001b[1;32m      9\u001b[0m \u001b[0;31m#layout = fifi.FigureLayout('~/FlyDataD/Projects/027_deconvolution/graph_layout.svg',make_mplfigures=True)\u001b[0m\u001b[0;34m\u001b[0m\u001b[0;34m\u001b[0m\u001b[0m\n\u001b[1;32m     10\u001b[0m \u001b[0;34m\u001b[0m\u001b[0m\n",
      "\u001b[0;32m/home/imager/.local/lib/python2.7/site-packages/figurefirst/svg_to_axes.pyc\u001b[0m in \u001b[0;36m__init__\u001b[0;34m(self, layout_filename, autogenlayers, make_mplfigures, dpi)\u001b[0m\n\u001b[1;32m    588\u001b[0m         \u001b[0;31m#from xml.dom import minidom\u001b[0m\u001b[0;34m\u001b[0m\u001b[0;34m\u001b[0m\u001b[0m\n\u001b[1;32m    589\u001b[0m         \u001b[0;31m#layout_filename = layout_filename\u001b[0m\u001b[0;34m\u001b[0m\u001b[0;34m\u001b[0m\u001b[0m\n\u001b[0;32m--> 590\u001b[0;31m         \u001b[0mself\u001b[0m\u001b[0;34m.\u001b[0m\u001b[0mlayout\u001b[0m \u001b[0;34m=\u001b[0m \u001b[0mminidom\u001b[0m\u001b[0;34m.\u001b[0m\u001b[0mparse\u001b[0m\u001b[0;34m(\u001b[0m\u001b[0mself\u001b[0m\u001b[0;34m.\u001b[0m\u001b[0mlayout_filename\u001b[0m\u001b[0;34m)\u001b[0m\u001b[0;34m.\u001b[0m\u001b[0mgetElementsByTagName\u001b[0m\u001b[0;34m(\u001b[0m\u001b[0;34m'svg'\u001b[0m\u001b[0;34m)\u001b[0m\u001b[0;34m[\u001b[0m\u001b[0;36m0\u001b[0m\u001b[0;34m]\u001b[0m\u001b[0;34m\u001b[0m\u001b[0m\n\u001b[0m\u001b[1;32m    591\u001b[0m         \u001b[0mself\u001b[0m\u001b[0;34m.\u001b[0m\u001b[0mlayout_width\u001b[0m \u001b[0;34m=\u001b[0m \u001b[0mupar\u001b[0m\u001b[0;34m(\u001b[0m\u001b[0mself\u001b[0m\u001b[0;34m.\u001b[0m\u001b[0mlayout\u001b[0m\u001b[0;34m.\u001b[0m\u001b[0mgetAttribute\u001b[0m\u001b[0;34m(\u001b[0m\u001b[0;34m'width'\u001b[0m\u001b[0;34m)\u001b[0m\u001b[0;34m)\u001b[0m\u001b[0;34m\u001b[0m\u001b[0m\n\u001b[1;32m    592\u001b[0m         \u001b[0;32mif\u001b[0m \u001b[0mself\u001b[0m\u001b[0;34m.\u001b[0m\u001b[0mlayout_width\u001b[0m\u001b[0;34m[\u001b[0m\u001b[0;36m1\u001b[0m\u001b[0;34m]\u001b[0m \u001b[0;34m==\u001b[0m \u001b[0;34m'u'\u001b[0m\u001b[0;34m:\u001b[0m\u001b[0;34m\u001b[0m\u001b[0m\n",
      "\u001b[0;32m/usr/lib/python2.7/xml/dom/minidom.pyc\u001b[0m in \u001b[0;36mparse\u001b[0;34m(file, parser, bufsize)\u001b[0m\n\u001b[1;32m   1916\u001b[0m     \u001b[0;32mif\u001b[0m \u001b[0mparser\u001b[0m \u001b[0;32mis\u001b[0m \u001b[0mNone\u001b[0m \u001b[0;32mand\u001b[0m \u001b[0;32mnot\u001b[0m \u001b[0mbufsize\u001b[0m\u001b[0;34m:\u001b[0m\u001b[0;34m\u001b[0m\u001b[0m\n\u001b[1;32m   1917\u001b[0m         \u001b[0;32mfrom\u001b[0m \u001b[0mxml\u001b[0m\u001b[0;34m.\u001b[0m\u001b[0mdom\u001b[0m \u001b[0;32mimport\u001b[0m \u001b[0mexpatbuilder\u001b[0m\u001b[0;34m\u001b[0m\u001b[0m\n\u001b[0;32m-> 1918\u001b[0;31m         \u001b[0;32mreturn\u001b[0m \u001b[0mexpatbuilder\u001b[0m\u001b[0;34m.\u001b[0m\u001b[0mparse\u001b[0m\u001b[0;34m(\u001b[0m\u001b[0mfile\u001b[0m\u001b[0;34m)\u001b[0m\u001b[0;34m\u001b[0m\u001b[0m\n\u001b[0m\u001b[1;32m   1919\u001b[0m     \u001b[0;32melse\u001b[0m\u001b[0;34m:\u001b[0m\u001b[0;34m\u001b[0m\u001b[0m\n\u001b[1;32m   1920\u001b[0m         \u001b[0;32mfrom\u001b[0m \u001b[0mxml\u001b[0m\u001b[0;34m.\u001b[0m\u001b[0mdom\u001b[0m \u001b[0;32mimport\u001b[0m \u001b[0mpulldom\u001b[0m\u001b[0;34m\u001b[0m\u001b[0m\n",
      "\u001b[0;32m/usr/lib/python2.7/xml/dom/expatbuilder.pyc\u001b[0m in \u001b[0;36mparse\u001b[0;34m(file, namespaces)\u001b[0m\n\u001b[1;32m    920\u001b[0m \u001b[0;34m\u001b[0m\u001b[0m\n\u001b[1;32m    921\u001b[0m     \u001b[0;32mif\u001b[0m \u001b[0misinstance\u001b[0m\u001b[0;34m(\u001b[0m\u001b[0mfile\u001b[0m\u001b[0;34m,\u001b[0m \u001b[0mStringTypes\u001b[0m\u001b[0;34m)\u001b[0m\u001b[0;34m:\u001b[0m\u001b[0;34m\u001b[0m\u001b[0m\n\u001b[0;32m--> 922\u001b[0;31m         \u001b[0mfp\u001b[0m \u001b[0;34m=\u001b[0m \u001b[0mopen\u001b[0m\u001b[0;34m(\u001b[0m\u001b[0mfile\u001b[0m\u001b[0;34m,\u001b[0m \u001b[0;34m'rb'\u001b[0m\u001b[0;34m)\u001b[0m\u001b[0;34m\u001b[0m\u001b[0m\n\u001b[0m\u001b[1;32m    923\u001b[0m         \u001b[0;32mtry\u001b[0m\u001b[0;34m:\u001b[0m\u001b[0;34m\u001b[0m\u001b[0m\n\u001b[1;32m    924\u001b[0m             \u001b[0mresult\u001b[0m \u001b[0;34m=\u001b[0m \u001b[0mbuilder\u001b[0m\u001b[0;34m.\u001b[0m\u001b[0mparseFile\u001b[0m\u001b[0;34m(\u001b[0m\u001b[0mfp\u001b[0m\u001b[0;34m)\u001b[0m\u001b[0;34m\u001b[0m\u001b[0m\n",
      "\u001b[0;31mIOError\u001b[0m: [Errno 2] No such file or directory: 'graph_layout.svg'"
     ]
    }
   ],
   "source": [
    "\n",
    "'''\n",
    "import os\n",
    "cwd = os.getcwd()\n",
    "print cwd\n",
    "'''\n",
    "#state_mtrx = np.vstack([filtered_df[key] for key in sorted_keys])\n",
    "layout = fifi.FigureLayout('graph_layout.svg',make_mplfigures=True)\n",
    "\n",
    "sorted_keys = sorted(fly.spikestates.keys())\n",
    "\n",
    "cull_list = [('left', 'bkg'),('right', 'bkg'),\n",
    "            ('left', 'iii24'),('right', 'iii24'),\n",
    "            ('left', 'nm'),('right', 'nm'),\n",
    "            ('left', 'pr'),('right', 'pr'),\n",
    "            ('left', 'tpd'),('right', 'tpd')]\n",
    "\n",
    "for cull in cull_list:\n",
    "    sorted_keys.remove(cull)\n",
    "#[sorted_keys.remove(cull) for cull in cull_list]\n",
    "\n",
    "graphs = {}\n",
    "for fly in flylist:\n",
    "    state_mtrx = np.vstack([filtered_df[key] for key in sorted_keys])\n",
    "    centered_mtrx = state_mtrx - np.mean(state_mtrx,axis = 1)[:,None]\n",
    "    std_mtrx = centered_mtrx/np.std(centered_mtrx,axis = 1)[:,None]\n",
    "    cor_mtrx = np.dot(std_mtrx,std_mtrx.T)\n",
    "    G = nx.Graph()\n",
    "    for i,lbl1 in enumerate(sorted_keys):\n",
    "        for j,lbl2 in enumerate(sorted_keys):\n",
    "            G.add_edge(lbl1,lbl2,weight = cor_mtrx[i,j])\n",
    "    graphs[fly.flynum] = G\n",
    "\n",
    "edges = G.edges\n",
    "c_ex = layout.pathspecs['excitatory'].mplkwargs()['edgecolor']\n",
    "c_in = layout.pathspecs['inhibitory'].mplkwargs()['edgecolor']\n",
    "colors = [{True:c_ex,False:c_in}[G[e[0]][e[1]]['weight']>0.] for e in edges]\n",
    "\n",
    "\n",
    "\n",
    "h = float(layout.layout_uh)\n",
    "pos_dict = {}\n",
    "for n in G.nodes:\n",
    "    n_s = '%s_%s'%(n[0][0].capitalize(),n[1])\n",
    "    cx = float(layout.pathspecs[n_s]['cx'])\n",
    "    cy = h-float(layout.pathspecs[n_s]['cy'])\n",
    "    try:\n",
    "        if 'transform' in layout.pathspecs[n_s].keys():\n",
    "            t1 = fifi.svg_to_axes.parse_transform(layout.pathspecs[n_s]['transform'])\n",
    "            p = np.dot(t1,np.array([cx,cy,1]))\n",
    "            pos_dict[n] = (p[0],p[1])\n",
    "        else:\n",
    "            pos_dict[n]  = (cx,cy)\n",
    "    except KeyError:\n",
    "        print n\n",
    "\n",
    "for flynum,G in graphs.items():\n",
    "    edges= G.edges\n",
    "    weights = [np.abs(G[e[0]][e[1]]['weight'])**2.6/100000000000. for e in edges]\n",
    "    nx.draw(G,\n",
    "            ax = layout.axes['network_graph_layout'],\n",
    "            pos = pos_dict,\n",
    "            font_color = 'r',\n",
    "            with_labels= False,\n",
    "            width = weights,\n",
    "            edge_color = colors,\n",
    "            node_color = 'k',\n",
    "            alpha = 0.1)\n",
    "\n",
    "    \n",
    "    \n",
    "layout.axes['network_graph_layout'].set_ybound(0,layout.axes['network_graph_layout'].h)\n",
    "layout.axes['network_graph_layout'].set_xbound(0,layout.axes['network_graph_layout'].w)\n",
    "\n",
    "layout.save('graph.svg')\n",
    "plt.close('all')\n",
    "display(SVG('graph.svg'))"
   ]
  },
  {
   "cell_type": "code",
   "execution_count": 37,
   "metadata": {},
   "outputs": [
    {
     "ename": "IOError",
     "evalue": "[Errno 2] No such file or directory: 'graph_layout.svg'",
     "output_type": "error",
     "traceback": [
      "\u001b[0;31m\u001b[0m",
      "\u001b[0;31mIOError\u001b[0mTraceback (most recent call last)",
      "\u001b[0;32m<ipython-input-37-6b40857cef9d>\u001b[0m in \u001b[0;36m<module>\u001b[0;34m()\u001b[0m\n\u001b[0;32m----> 1\u001b[0;31m \u001b[0mlayout\u001b[0m \u001b[0;34m=\u001b[0m \u001b[0mfifi\u001b[0m\u001b[0;34m.\u001b[0m\u001b[0mFigureLayout\u001b[0m\u001b[0;34m(\u001b[0m\u001b[0;34m'graph_layout.svg'\u001b[0m\u001b[0;34m,\u001b[0m\u001b[0mmake_mplfigures\u001b[0m\u001b[0;34m=\u001b[0m\u001b[0mTrue\u001b[0m\u001b[0;34m)\u001b[0m\u001b[0;34m\u001b[0m\u001b[0m\n\u001b[0m\u001b[1;32m      2\u001b[0m \u001b[0;34m\u001b[0m\u001b[0m\n\u001b[1;32m      3\u001b[0m \u001b[0msorted_keys\u001b[0m \u001b[0;34m=\u001b[0m \u001b[0msorted\u001b[0m\u001b[0;34m(\u001b[0m\u001b[0mfly\u001b[0m\u001b[0;34m.\u001b[0m\u001b[0mspikestates\u001b[0m\u001b[0;34m.\u001b[0m\u001b[0mkeys\u001b[0m\u001b[0;34m(\u001b[0m\u001b[0;34m)\u001b[0m\u001b[0;34m)\u001b[0m\u001b[0;34m\u001b[0m\u001b[0m\n\u001b[1;32m      4\u001b[0m \u001b[0;34m\u001b[0m\u001b[0m\n\u001b[1;32m      5\u001b[0m cull_list = [('left', 'bkg'),('right', 'bkg'),\n",
      "\u001b[0;32m/home/imager/.local/lib/python2.7/site-packages/figurefirst/svg_to_axes.pyc\u001b[0m in \u001b[0;36m__init__\u001b[0;34m(self, layout_filename, autogenlayers, make_mplfigures, dpi)\u001b[0m\n\u001b[1;32m    588\u001b[0m         \u001b[0;31m#from xml.dom import minidom\u001b[0m\u001b[0;34m\u001b[0m\u001b[0;34m\u001b[0m\u001b[0m\n\u001b[1;32m    589\u001b[0m         \u001b[0;31m#layout_filename = layout_filename\u001b[0m\u001b[0;34m\u001b[0m\u001b[0;34m\u001b[0m\u001b[0m\n\u001b[0;32m--> 590\u001b[0;31m         \u001b[0mself\u001b[0m\u001b[0;34m.\u001b[0m\u001b[0mlayout\u001b[0m \u001b[0;34m=\u001b[0m \u001b[0mminidom\u001b[0m\u001b[0;34m.\u001b[0m\u001b[0mparse\u001b[0m\u001b[0;34m(\u001b[0m\u001b[0mself\u001b[0m\u001b[0;34m.\u001b[0m\u001b[0mlayout_filename\u001b[0m\u001b[0;34m)\u001b[0m\u001b[0;34m.\u001b[0m\u001b[0mgetElementsByTagName\u001b[0m\u001b[0;34m(\u001b[0m\u001b[0;34m'svg'\u001b[0m\u001b[0;34m)\u001b[0m\u001b[0;34m[\u001b[0m\u001b[0;36m0\u001b[0m\u001b[0;34m]\u001b[0m\u001b[0;34m\u001b[0m\u001b[0m\n\u001b[0m\u001b[1;32m    591\u001b[0m         \u001b[0mself\u001b[0m\u001b[0;34m.\u001b[0m\u001b[0mlayout_width\u001b[0m \u001b[0;34m=\u001b[0m \u001b[0mupar\u001b[0m\u001b[0;34m(\u001b[0m\u001b[0mself\u001b[0m\u001b[0;34m.\u001b[0m\u001b[0mlayout\u001b[0m\u001b[0;34m.\u001b[0m\u001b[0mgetAttribute\u001b[0m\u001b[0;34m(\u001b[0m\u001b[0;34m'width'\u001b[0m\u001b[0;34m)\u001b[0m\u001b[0;34m)\u001b[0m\u001b[0;34m\u001b[0m\u001b[0m\n\u001b[1;32m    592\u001b[0m         \u001b[0;32mif\u001b[0m \u001b[0mself\u001b[0m\u001b[0;34m.\u001b[0m\u001b[0mlayout_width\u001b[0m\u001b[0;34m[\u001b[0m\u001b[0;36m1\u001b[0m\u001b[0;34m]\u001b[0m \u001b[0;34m==\u001b[0m \u001b[0;34m'u'\u001b[0m\u001b[0;34m:\u001b[0m\u001b[0;34m\u001b[0m\u001b[0m\n",
      "\u001b[0;32m/usr/lib/python2.7/xml/dom/minidom.pyc\u001b[0m in \u001b[0;36mparse\u001b[0;34m(file, parser, bufsize)\u001b[0m\n\u001b[1;32m   1916\u001b[0m     \u001b[0;32mif\u001b[0m \u001b[0mparser\u001b[0m \u001b[0;32mis\u001b[0m \u001b[0mNone\u001b[0m \u001b[0;32mand\u001b[0m \u001b[0;32mnot\u001b[0m \u001b[0mbufsize\u001b[0m\u001b[0;34m:\u001b[0m\u001b[0;34m\u001b[0m\u001b[0m\n\u001b[1;32m   1917\u001b[0m         \u001b[0;32mfrom\u001b[0m \u001b[0mxml\u001b[0m\u001b[0;34m.\u001b[0m\u001b[0mdom\u001b[0m \u001b[0;32mimport\u001b[0m \u001b[0mexpatbuilder\u001b[0m\u001b[0;34m\u001b[0m\u001b[0m\n\u001b[0;32m-> 1918\u001b[0;31m         \u001b[0;32mreturn\u001b[0m \u001b[0mexpatbuilder\u001b[0m\u001b[0;34m.\u001b[0m\u001b[0mparse\u001b[0m\u001b[0;34m(\u001b[0m\u001b[0mfile\u001b[0m\u001b[0;34m)\u001b[0m\u001b[0;34m\u001b[0m\u001b[0m\n\u001b[0m\u001b[1;32m   1919\u001b[0m     \u001b[0;32melse\u001b[0m\u001b[0;34m:\u001b[0m\u001b[0;34m\u001b[0m\u001b[0m\n\u001b[1;32m   1920\u001b[0m         \u001b[0;32mfrom\u001b[0m \u001b[0mxml\u001b[0m\u001b[0;34m.\u001b[0m\u001b[0mdom\u001b[0m \u001b[0;32mimport\u001b[0m \u001b[0mpulldom\u001b[0m\u001b[0;34m\u001b[0m\u001b[0m\n",
      "\u001b[0;32m/usr/lib/python2.7/xml/dom/expatbuilder.pyc\u001b[0m in \u001b[0;36mparse\u001b[0;34m(file, namespaces)\u001b[0m\n\u001b[1;32m    920\u001b[0m \u001b[0;34m\u001b[0m\u001b[0m\n\u001b[1;32m    921\u001b[0m     \u001b[0;32mif\u001b[0m \u001b[0misinstance\u001b[0m\u001b[0;34m(\u001b[0m\u001b[0mfile\u001b[0m\u001b[0;34m,\u001b[0m \u001b[0mStringTypes\u001b[0m\u001b[0;34m)\u001b[0m\u001b[0;34m:\u001b[0m\u001b[0;34m\u001b[0m\u001b[0m\n\u001b[0;32m--> 922\u001b[0;31m         \u001b[0mfp\u001b[0m \u001b[0;34m=\u001b[0m \u001b[0mopen\u001b[0m\u001b[0;34m(\u001b[0m\u001b[0mfile\u001b[0m\u001b[0;34m,\u001b[0m \u001b[0;34m'rb'\u001b[0m\u001b[0;34m)\u001b[0m\u001b[0;34m\u001b[0m\u001b[0m\n\u001b[0m\u001b[1;32m    923\u001b[0m         \u001b[0;32mtry\u001b[0m\u001b[0;34m:\u001b[0m\u001b[0;34m\u001b[0m\u001b[0m\n\u001b[1;32m    924\u001b[0m             \u001b[0mresult\u001b[0m \u001b[0;34m=\u001b[0m \u001b[0mbuilder\u001b[0m\u001b[0;34m.\u001b[0m\u001b[0mparseFile\u001b[0m\u001b[0;34m(\u001b[0m\u001b[0mfp\u001b[0m\u001b[0;34m)\u001b[0m\u001b[0;34m\u001b[0m\u001b[0m\n",
      "\u001b[0;31mIOError\u001b[0m: [Errno 2] No such file or directory: 'graph_layout.svg'"
     ]
    }
   ],
   "source": [
    "layout = fifi.FigureLayout('graph_layout.svg',make_mplfigures=True)\n",
    "\n",
    "sorted_keys = sorted(fly.spikestates.keys())\n",
    "\n",
    "cull_list = [('left', 'bkg'),('right', 'bkg'),\n",
    "            ('left', 'iii24'),('right', 'iii24'),\n",
    "            ('left', 'nm'),('right', 'nm'),\n",
    "            ('left', 'pr'),('right', 'pr'),\n",
    "            ('left', 'tpd'),('right', 'tpd')]\n",
    "\n",
    "for cull in cull_list:\n",
    "    sorted_keys.remove(cull)\n",
    "#[sorted_keys.remove(cull) for cull in cull_list]\n",
    "\n",
    "graphs = {}\n",
    "for fly in flylist:\n",
    "    state_mtrx = np.vstack([filtered_df[key] for key in sorted_keys])\n",
    "    centered_mtrx = state_mtrx - np.mean(state_mtrx,axis = 1)[:,None]\n",
    "    std_mtrx = centered_mtrx/np.std(centered_mtrx,axis = 1)[:,None]\n",
    "    cor_mtrx = np.dot(std_mtrx,std_mtrx.T)\n",
    "    G = nx.Graph()\n",
    "    for i,lbl1 in enumerate(sorted_keys):\n",
    "        for j,lbl2 in enumerate(sorted_keys):\n",
    "            G.add_edge(lbl1,lbl2,weight = cor_mtrx[i,j])\n",
    "    graphs[fly.flynum] = G\n",
    "\n",
    "edges = G.edges\n",
    "c_ex = layout.pathspecs['excitatory'].mplkwargs()['edgecolor']\n",
    "c_in = layout.pathspecs['inhibitory'].mplkwargs()['edgecolor']\n",
    "colors = [{True:c_ex,False:c_in}[G[e[0]][e[1]]['weight']>0.] for e in edges]\n",
    "\n",
    "\n",
    "\n",
    "h = float(layout.layout_uh)\n",
    "pos_dict = {}\n",
    "for n in G.nodes:\n",
    "    n_s = '%s_%s'%(n[0][0].capitalize(),n[1])\n",
    "    cx = float(layout.pathspecs[n_s]['cx'])\n",
    "    cy = h-float(layout.pathspecs[n_s]['cy'])\n",
    "    try:\n",
    "        if 'transform' in layout.pathspecs[n_s].keys():\n",
    "            t1 = fifi.svg_to_axes.parse_transform(layout.pathspecs[n_s]['transform'])\n",
    "            p = np.dot(t1,np.array([cx,cy,1]))\n",
    "            pos_dict[n] = (p[0],p[1])\n",
    "        else:\n",
    "            pos_dict[n]  = (cx,cy)\n",
    "    except KeyError:\n",
    "        print n\n",
    "\n",
    "for flynum,G in graphs.items():\n",
    "    edges= G.edges\n",
    "    weights = [np.abs(G[e[0]][e[1]]['weight'])**2.6/100000000000. for e in edges]\n",
    "    nx.draw(G,\n",
    "            ax = layout.axes['network_graph_layout'],\n",
    "            pos = pos_dict,\n",
    "            font_color = 'r',\n",
    "            with_labels= False,\n",
    "            width = weights,\n",
    "            edge_color = colors,\n",
    "            node_color = 'k',\n",
    "            alpha = 0.1)\n",
    "\n",
    "    \n",
    "    \n",
    "layout.axes['network_graph_layout'].set_ybound(0,layout.axes['network_graph_layout'].h)\n",
    "layout.axes['network_graph_layout'].set_xbound(0,layout.axes['network_graph_layout'].w)\n",
    "\n",
    "layout.save('graph.svg')\n",
    "plt.close('all')\n",
    "display(SVG('graph.svg'))"
   ]
  },
  {
   "cell_type": "code",
   "execution_count": null,
   "metadata": {},
   "outputs": [],
   "source": []
  }
 ],
 "metadata": {
  "kernelspec": {
   "display_name": "Python 2",
   "language": "python",
   "name": "python2"
  },
  "language_info": {
   "codemirror_mode": {
    "name": "ipython",
    "version": 2
   },
   "file_extension": ".py",
   "mimetype": "text/x-python",
   "name": "python",
   "nbconvert_exporter": "python",
   "pygments_lexer": "ipython2",
   "version": "2.7.12"
  }
 },
 "nbformat": 4,
 "nbformat_minor": 2
}
