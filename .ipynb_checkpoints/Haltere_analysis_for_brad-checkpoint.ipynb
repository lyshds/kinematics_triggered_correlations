{
 "cells": [
  {
   "cell_type": "code",
   "execution_count": 1,
   "metadata": {},
   "outputs": [],
   "source": [
    "import flylib as flb\n",
    "#from thllib import flylib as flb\n",
    "import flylib as flb\n",
    "from matplotlib import pyplot as plt\n",
    "import numpy as np\n",
    "import scipy\n",
    "from flylib import util\n",
    "import figurefirst as fifi\n",
    "import scipy.signal\n",
    "#import local_project_functions as lpf\n",
    "from IPython.display import SVG,display\n",
    "import pandas as pd\n",
    "\n",
    "import flylib as flb\n",
    "#from thllib import flylib as flb\n",
    "import flylib as flb\n",
    "from matplotlib import pyplot as plt\n",
    "import numpy as np\n",
    "import scipy\n",
    "from flylib import util\n",
    "import figurefirst as fifi\n",
    "import scipy.signal\n",
    "#import local_project_functions as lpf\n",
    "from IPython.display import SVG,display\n",
    "import pandas as pd\n",
    "import networkx as nx"
   ]
  },
  {
   "cell_type": "code",
   "execution_count": 2,
   "metadata": {},
   "outputs": [],
   "source": [
    "import networkx as nx"
   ]
  },
  {
   "cell_type": "code",
   "execution_count": 3,
   "metadata": {},
   "outputs": [
    {
     "name": "stdout",
     "output_type": "stream",
     "text": [
      "Making dataframe for fly number 1565\n"
     ]
    }
   ],
   "source": [
    "\n",
    "\n",
    "fly_nums = range(1565, 1566)\n",
    "multi_fly_df = util.construct_multi_fly_df(fly_nums)\n",
    "\n",
    "all_stim_df = multi_fly_df\n"
   ]
  },
  {
   "cell_type": "code",
   "execution_count": 4,
   "metadata": {},
   "outputs": [],
   "source": [
    "#flylist = [flb.NetFly(fn) for fn in range(1565, 1566)]\n",
    "fly = flb.NetFly(1565)\n",
    "fly.open_signals()"
   ]
  },
  {
   "cell_type": "code",
   "execution_count": 5,
   "metadata": {},
   "outputs": [
    {
     "data": {
      "text/plain": [
       "0    0.529976\n",
       "1    0.529384\n",
       "2    0.499114\n",
       "3    0.499635\n",
       "4    0.492704\n",
       "Name: iii1_right, dtype: float64"
      ]
     },
     "execution_count": 5,
     "metadata": {},
     "output_type": "execute_result"
    }
   ],
   "source": [
    "all_stim_df['iii1_right'].head()"
   ]
  },
  {
   "cell_type": "code",
   "execution_count": 12,
   "metadata": {},
   "outputs": [
    {
     "ename": "AttributeError",
     "evalue": "'NetFly' object has no attribute 'idxs'",
     "output_type": "error",
     "traceback": [
      "\u001b[0;31m\u001b[0m",
      "\u001b[0;31mAttributeError\u001b[0mTraceback (most recent call last)",
      "\u001b[0;32m<ipython-input-12-7085c340f6cc>\u001b[0m in \u001b[0;36m<module>\u001b[0;34m()\u001b[0m\n\u001b[0;32m----> 1\u001b[0;31m \u001b[0mfly\u001b[0m\u001b[0;34m.\u001b[0m\u001b[0midxs\u001b[0m\u001b[0;34m\u001b[0m\u001b[0m\n\u001b[0m",
      "\u001b[0;31mAttributeError\u001b[0m: 'NetFly' object has no attribute 'idxs'"
     ]
    }
   ],
   "source": []
  },
  {
   "cell_type": "code",
   "execution_count": 7,
   "metadata": {},
   "outputs": [],
   "source": [
    "####################\n",
    "# example movie of fly flying in closed loop\n",
    "####################\n",
    "\n",
    "from matplotlib.animation import FuncAnimation\n",
    "\n",
    "import figurefirst as fifi\n",
    "layout = fifi.FigureLayout('bias_movie_layout.svg',make_mplfigures = True)\n",
    "\n",
    "#fly = flylist[0]\n",
    "fly = fly\n",
    "snum = 5\n",
    "\n",
    "l = all_stim_df['left_amp']\n",
    "#l = fly.block_data['left', 'amp'][snum]#, 'cl_blocks, g_x=-1, g_y=0 b_x=0, b_y=0'][snum]\n",
    "r = all_stim_df['right_amp']\n",
    "#r = fly.block_data['right', 'amp'][snum]#, 'cl_blocks, g_x=-1, g_y=0 b_x=0, b_y=0'][snum]\n",
    "h = all_stim_df['iii1_right']\n",
    "#x = fly.block_data['common', 'x_pos', 'cl_blocks, g_x=-1, g_y=0 b_x=0, b_y=0'][snum]\n",
    "idxs = np.arange(0, len(l))\n",
    "#idxs = fly.block_data['common','idx', 'cl_blocks, g_x=-1, g_y=0 b_x=0, b_y=0'][snum]\n",
    "\n",
    "times = np.arange(len(l))*0.02\n",
    "\n",
    "#x = np.rad2deg(x/10.0 *2*np.pi)\n",
    "#x -= np.mean(x[:100])\n",
    "#x += 180\n",
    "lmr = np.rad2deg((l-r)/10 *2*np.pi)\n",
    "\n",
    "#b2l = fly.normed_signals['left', 'b2'][idxs]\n",
    "#b2r = fly.normed_signals['right', 'b2'][idxs]\n",
    "\n",
    "#i1l = fly.normed_signals['left', 'i1'][idxs]\n",
    "#i1r = fly.normed_signals['right', 'i1'][idxs]\n",
    "\n",
    "#iii3l = fly.normed_signals['left', 'iii3'][idxs]\n",
    "#iii3r = fly.normed_signals['right', 'iii3'][idxs]\n",
    "\n",
    "#hg4l = fly.normed_signals['left', 'hg4'][idxs]\n",
    "#hg4r = fly.normed_signals['right', 'hg4'][idxs]\n",
    "\n",
    "#hg1l = fly.normed_signals['left', 'hg1'][idxs]\n",
    "#hg1r = fly.normed_signals['right', 'hg1'][idxs]\n",
    "\n",
    "#fly_img = layout.axes['fly'].imshow(fly.kine_cam_1[idxs[0]][:,:450].T[:,::-1],cmap = plt.cm.gray)\n",
    "fly_img = layout.axes['fly'].imshow(fly.kine_cam_1[idxs[0]][:,:450].T[:,::-1],cmap = plt.cm.gray, clim = (0,250))  # clim \n",
    "#arena_img = layout.axes['arena'].imshow(util.jpg2np(fly.arena_cam_1[idxs[0]])[:,150:650])\n",
    "#ca_l_img = layout.axes['cam_l'].imshow(fly.ca_cam_left[idxs[0]][:,25:-25],\n",
    "#                                       cmap = plt.cm.gray,clim = (0,550))\n",
    "ca_r_img = layout.axes['cam_r'].imshow(fly.ca_cam_right[idxs[0]][:,25:-25],\n",
    "                                       cmap = plt.cm.gray,clim = (0,550))\n",
    "\n",
    "#layout.axes['cam_l'].set_title('left hinge')\n",
    "layout.axes['cam_r'].set_title('right hinge')\n",
    "layout.axes['arena_position'].plot(times,h,color = 'k',clip_on = False,lw = 1.5)\n",
    "#layout.axes['arena_position'].set_xbound(0,times[-1])\n",
    "#layout.axes['arena_position'].set_ybound(0,360)\n",
    "#layout.axes['arena_position'].set_yticks([0,180,360])\n",
    "#layout.axes['arena_position'].set_ylabel('arena \\n orientation')\n",
    "#layout.axes['arena_position'].patch.set_alpha(0.0)\n",
    "\n",
    "layout.axes['lmr'].plot(times,lmr,clip_on = False,color = 'k')\n",
    "layout.axes['lmr'].set_xbound(0,times[-1])\n",
    "layout.axes['lmr'].set_ylabel('left - right \\n amplitude')\n",
    "layout.axes['lmr'].set_ybound(-15,15)\n",
    "layout.axes['lmr'].set_yticks([-15,0,15])\n",
    "layout.axes['arena_position'].patch.set_alpha(0.0)\n",
    "\n",
    "\n",
    "layout.axes['axvline'].patch.set_alpha(0.0)\n",
    "layout.axes['axvline'].set_xbound(0,times[-1])\n",
    "fifi.mpl_functions.set_spines(layout)\n",
    "\n",
    "indicator = layout.axes['axvline'].axvline(0,color = 'k')\n",
    "\n",
    "def update(frame):\n",
    "    fly_img.set_data(fly.kine_cam_1[idxs[frame]][:,:450].T[:,::-1]**1.19)\n",
    "    #arena_img.set_data(util.jpg2np(fly.arena_cam_1[idxs[frame]])[:,150:650])\n",
    "    #ca_l_img.set_data(fly.ca_cam_left[idxs[frame]][:,25:-25]**1.25)\n",
    "    ca_r_img.set_data(fly.ca_cam_right[idxs[frame]][:,25:-25]**1.25)\n",
    "    #indicator.set_xdata(times[frame])\n",
    "\n",
    "update(0)\n",
    "plt.draw()\n",
    "\n",
    "from matplotlib.animation import FFMpegWriter \n",
    "Writer = FFMpegWriter \n",
    "writer = FFMpegWriter(fps=30, metadata=dict(artist='Alysha de Souza'), \n",
    "                      extra_args=['-vcodec', 'h264', '-pix_fmt','yuv420p'])\n",
    "ani = FuncAnimation(plt.gcf(), update, frames=np.arange(0,375))\n",
    "ani.save('cl_movie_3.mp4',writer = writer)"
   ]
  },
  {
   "cell_type": "code",
   "execution_count": 8,
   "metadata": {},
   "outputs": [
    {
     "data": {
      "text/plain": [
       "<HDF5 dataset \"kine_cam_1\": shape (15500, 488, 648), type \"|u1\">"
      ]
     },
     "execution_count": 8,
     "metadata": {},
     "output_type": "execute_result"
    }
   ],
   "source": [
    "fly.kine_cam_1"
   ]
  },
  {
   "cell_type": "code",
   "execution_count": 9,
   "metadata": {},
   "outputs": [
    {
     "data": {
      "text/plain": [
       "array([[ 87,  86,  85, ...,  96,  88, 203],\n",
       "       [ 87,  86,  85, ...,  72, 101, 139],\n",
       "       [ 87,  86,  85, ...,  90,  77,  11],\n",
       "       ..., \n",
       "       [121, 122, 123, ..., 117, 119, 120],\n",
       "       [122, 121, 120, ..., 120, 120, 118],\n",
       "       [122, 121, 120, ..., 121, 121, 119]], dtype=uint8)"
      ]
     },
     "execution_count": 9,
     "metadata": {},
     "output_type": "execute_result"
    }
   ],
   "source": [
    "fly.kine_cam_1[idxs[0]][:,:450].T[:,::-1]"
   ]
  },
  {
   "cell_type": "code",
   "execution_count": 10,
   "metadata": {},
   "outputs": [
    {
     "data": {
      "text/plain": [
       "(450, 488)"
      ]
     },
     "execution_count": 10,
     "metadata": {},
     "output_type": "execute_result"
    }
   ],
   "source": [
    "np.shape(fly.kine_cam_1[idxs[0]][:,:450].T[:,::-1])"
   ]
  },
  {
   "cell_type": "code",
   "execution_count": 12,
   "metadata": {},
   "outputs": [
    {
     "data": {
      "image/png": "[encoded data removed]",
      "text/plain": [
       "<matplotlib.figure.Figure at 0x7f045779f890>"
      ]
     },
     "metadata": {},
     "output_type": "display_data"
    }
   ],
   "source": [
    "im = np.shape(fly.kine_cam_1[idxs[0]][:,:450].T[:,::-1])\n",
    "normed_im = (im-np.mean(im))/(np.max(im)-np.min(im))\n",
    "plt.figure(100)\n",
    "plt.hist(normed_im,bins=40)\n",
    "plt.show()"
   ]
  },
  {
   "cell_type": "code",
   "execution_count": 15,
   "metadata": {},
   "outputs": [
    {
     "data": {
      "text/plain": [
       "(488, 648)"
      ]
     },
     "execution_count": 15,
     "metadata": {},
     "output_type": "execute_result"
    }
   ],
   "source": [
    "np.shape(fly.kine_cam_1[0])"
   ]
  },
  {
   "cell_type": "code",
   "execution_count": 17,
   "metadata": {},
   "outputs": [
    {
     "data": {
      "text/plain": [
       "(488, 450)"
      ]
     },
     "execution_count": 17,
     "metadata": {},
     "output_type": "execute_result"
    }
   ],
   "source": [
    "np.shape(fly.kine_cam_1[idxs[0]][:,:450])"
   ]
  },
  {
   "cell_type": "code",
   "execution_count": 18,
   "metadata": {},
   "outputs": [
    {
     "data": {
      "text/plain": [
       "(648, 488)"
      ]
     },
     "execution_count": 18,
     "metadata": {},
     "output_type": "execute_result"
    }
   ],
   "source": [
    "np.shape(fly.kine_cam_1[idxs[0]].T[:,::-1])"
   ]
  },
  {
   "cell_type": "code",
   "execution_count": 20,
   "metadata": {},
   "outputs": [],
   "source": [
    "####################\n",
    "# example movie of fly flying in closed loop\n",
    "####################\n",
    "\n",
    "from matplotlib.animation import FuncAnimation\n",
    "\n",
    "import figurefirst as fifi\n",
    "layout = fifi.FigureLayout('bias_movie_layout.svg',make_mplfigures = True)\n",
    "\n",
    "#fly = flylist[0]\n",
    "fly = fly\n",
    "snum = 5\n",
    "\n",
    "l = all_stim_df['left_amp']\n",
    "#l = fly.block_data['left', 'amp'][snum]#, 'cl_blocks, g_x=-1, g_y=0 b_x=0, b_y=0'][snum]\n",
    "r = all_stim_df['right_amp']\n",
    "#r = fly.block_data['right', 'amp'][snum]#, 'cl_blocks, g_x=-1, g_y=0 b_x=0, b_y=0'][snum]\n",
    "h = all_stim_df['iii1_right']\n",
    "#x = fly.block_data['common', 'x_pos', 'cl_blocks, g_x=-1, g_y=0 b_x=0, b_y=0'][snum]\n",
    "idxs = np.arange(0, len(l))\n",
    "#idxs = fly.block_data['common','idx', 'cl_blocks, g_x=-1, g_y=0 b_x=0, b_y=0'][snum]\n",
    "\n",
    "times = np.arange(len(l))*0.02\n",
    "\n",
    "#x = np.rad2deg(x/10.0 *2*np.pi)\n",
    "#x -= np.mean(x[:100])\n",
    "#x += 180\n",
    "lmr = np.rad2deg((l-r)/10 *2*np.pi)\n",
    "\n",
    "#b2l = fly.normed_signals['left', 'b2'][idxs]\n",
    "#b2r = fly.normed_signals['right', 'b2'][idxs]\n",
    "\n",
    "#i1l = fly.normed_signals['left', 'i1'][idxs]\n",
    "#i1r = fly.normed_signals['right', 'i1'][idxs]\n",
    "\n",
    "#iii3l = fly.normed_signals['left', 'iii3'][idxs]\n",
    "#iii3r = fly.normed_signals['right', 'iii3'][idxs]\n",
    "\n",
    "#hg4l = fly.normed_signals['left', 'hg4'][idxs]\n",
    "#hg4r = fly.normed_signals['right', 'hg4'][idxs]\n",
    "\n",
    "#hg1l = fly.normed_signals['left', 'hg1'][idxs]\n",
    "#hg1r = fly.normed_signals['right', 'hg1'][idxs]\n",
    "\n",
    "#fly_img = layout.axes['fly'].imshow(fly.kine_cam_1[idxs[0]][:,:450].T[:,::-1],cmap = plt.cm.gray)\n",
    "fly_img = layout.axes['fly'].imshow(fly.kine_cam_1[idxs[0]][:,:450].T[:,::-1],cmap = plt.cm.gray, clim = (0,250))  # clim \n",
    "#arena_img = layout.axes['arena'].imshow(util.jpg2np(fly.arena_cam_1[idxs[0]])[:,150:650])\n",
    "#ca_l_img = layout.axes['cam_l'].imshow(fly.ca_cam_left[idxs[0]][:,25:-25],\n",
    "#                                       cmap = plt.cm.gray,clim = (0,550))\n",
    "ca_r_img = layout.axes['cam_r'].imshow(fly.ca_cam_right[idxs[0]][:,25:-25],\n",
    "                                       cmap = plt.cm.gray,clim = (0,550))\n",
    "\n",
    "#layout.axes['cam_l'].set_title('left hinge')\n",
    "layout.axes['cam_r'].set_title('right hinge')\n",
    "layout.axes['arena_position'].plot(times,h,color = 'k',clip_on = False,lw = 1.5)\n",
    "#layout.axes['arena_position'].set_xbound(0,times[-1])\n",
    "#layout.axes['arena_position'].set_ybound(0,360)\n",
    "#layout.axes['arena_position'].set_yticks([0,180,360])\n",
    "#layout.axes['arena_position'].set_ylabel('arena \\n orientation')\n",
    "#layout.axes['arena_position'].patch.set_alpha(0.0)\n",
    "\n",
    "layout.axes['lmr'].plot(times,lmr,clip_on = False,color = 'k')\n",
    "layout.axes['lmr'].set_xbound(0,times[-1])\n",
    "layout.axes['lmr'].set_ylabel('left - right \\n amplitude')\n",
    "layout.axes['lmr'].set_ybound(-15,15)\n",
    "layout.axes['lmr'].set_yticks([-15,0,15])\n",
    "layout.axes['arena_position'].patch.set_alpha(0.0)\n",
    "\n",
    "\n",
    "layout.axes['axvline'].patch.set_alpha(0.0)\n",
    "layout.axes['axvline'].set_xbound(0,times[-1])\n",
    "fifi.mpl_functions.set_spines(layout)\n",
    "\n",
    "indicator = layout.axes['axvline'].axvline(0,color = 'k')\n",
    "\n",
    "def update(frame):\n",
    "    fly_img.set_data(fly.kine_cam_1[idxs[frame]][:,:450].T[:,::-1])#**1.19)\n",
    "    #arena_img.set_data(util.jpg2np(fly.arena_cam_1[idxs[frame]])[:,150:650])\n",
    "    #ca_l_img.set_data(fly.ca_cam_left[idxs[frame]][:,25:-25]**1.25)\n",
    "    ca_r_img.set_data(fly.ca_cam_right[idxs[frame]][:,25:-25]**1.25)\n",
    "    #indicator.set_xdata(times[frame])\n",
    "\n",
    "update(0)\n",
    "plt.draw()\n",
    "\n",
    "from matplotlib.animation import FFMpegWriter \n",
    "Writer = FFMpegWriter \n",
    "writer = FFMpegWriter(fps=30, metadata=dict(artist='Alysha de Souza'), \n",
    "                      extra_args=['-vcodec', 'h264', '-pix_fmt','yuv420p'])\n",
    "ani = FuncAnimation(plt.gcf(), update, frames=np.arange(0,375))\n",
    "ani.save('cl_movie_3.mp4',writer = writer)"
   ]
  },
  {
   "cell_type": "code",
   "execution_count": null,
   "metadata": {},
   "outputs": [],
   "source": [
    "####################\n",
    "# example movie of fly flying in closed loop\n",
    "####################\n",
    "\n",
    "from matplotlib.animation import FuncAnimation\n",
    "\n",
    "import figurefirst as fifi\n",
    "layout = fifi.FigureLayout('bias_movie_layout_2.svg',make_mplfigures = True)\n",
    "\n",
    "#fly = flylist[0]\n",
    "fly = fly\n",
    "snum = 5\n",
    "\n",
    "l = all_stim_df['left_amp']\n",
    "#l = fly.block_data['left', 'amp'][snum]#, 'cl_blocks, g_x=-1, g_y=0 b_x=0, b_y=0'][snum]\n",
    "r = all_stim_df['right_amp']\n",
    "#r = fly.block_data['right', 'amp'][snum]#, 'cl_blocks, g_x=-1, g_y=0 b_x=0, b_y=0'][snum]\n",
    "h = all_stim_df['iii1_right']\n",
    "#x = fly.block_data['common', 'x_pos', 'cl_blocks, g_x=-1, g_y=0 b_x=0, b_y=0'][snum]\n",
    "idxs = np.arange(0, len(l))\n",
    "#idxs = fly.block_data['common','idx', 'cl_blocks, g_x=-1, g_y=0 b_x=0, b_y=0'][snum]\n",
    "\n",
    "times = np.arange(len(l))*0.02\n",
    "\n",
    "#x = np.rad2deg(x/10.0 *2*np.pi)\n",
    "#x -= np.mean(x[:100])\n",
    "#x += 180\n",
    "lmr = np.rad2deg((l-r)/10 *2*np.pi)\n",
    "r_amp = np.rad2deg((r)/10 *2*np.pi)\n",
    "\n",
    "#b2l = fly.normed_signals['left', 'b2'][idxs]\n",
    "#b2r = fly.normed_signals['right', 'b2'][idxs]\n",
    "\n",
    "#i1l = fly.normed_signals['left', 'i1'][idxs]\n",
    "#i1r = fly.normed_signals['right', 'i1'][idxs]\n",
    "\n",
    "#iii3l = fly.normed_signals['left', 'iii3'][idxs]\n",
    "#iii3r = fly.normed_signals['right', 'iii3'][idxs]\n",
    "\n",
    "#hg4l = fly.normed_signals['left', 'hg4'][idxs]\n",
    "#hg4r = fly.normed_signals['right', 'hg4'][idxs]\n",
    "\n",
    "#hg1l = fly.normed_signals['left', 'hg1'][idxs]\n",
    "#hg1r = fly.normed_signals['right', 'hg1'][idxs]\n",
    "\n",
    "#fly_img = layout.axes['fly'].imshow(fly.kine_cam_1[idxs[0]][:,:450].T[:,::-1],cmap = plt.cm.gray)\n",
    "fly_img = layout.axes['fly'].imshow(fly.kine_cam_1[idxs[0]][:,:450].T[:,::-1],cmap = plt.cm.gray, clim = (0,250))  # clim \n",
    "#arena_img = layout.axes['arena'].imshow(util.jpg2np(fly.arena_cam_1[idxs[0]])[:,150:650])\n",
    "#ca_l_img = layout.axes['cam_l'].imshow(fly.ca_cam_left[idxs[0]][:,25:-25],\n",
    "#                                       cmap = plt.cm.gray,clim = (0,550))\n",
    "ca_r_img = layout.axes['cam_r'].imshow(fly.ca_cam_right[idxs[0]][:,25:-25],\n",
    "                                       cmap = plt.cm.gray,clim = (0,550))\n",
    "\n",
    "#layout.axes['cam_l'].set_title('left hinge')\n",
    "layout.axes['cam_r'].set_title('right haltere')\n",
    "#layout.axes['arena_position'].plot(times,r_amp,color = 'k',clip_on = False,lw = 0.8)\n",
    "#layout.axes['arena_position'].set_ylabel('right wing amplitude')\n",
    "#layout.axes['arena_position'].set_ybound(30,70)\n",
    "#layout.axes['arena_position'].set_yticks([30,50,70])\n",
    "layout.axes['halt'].plot(times,h,color = 'k',clip_on = False,lw = 0.8)\n",
    "layout.axes['halt'].set_ylabel('haltere $\\delta F/F')\n",
    "layout.axes['halt'].set_ybound(0,1)\n",
    "layout.axes['halt'].set_yticks([0.,0.5,1.0])\n",
    "\n",
    "#layout.axes['arena_position'].set_xbound(0,times[-1])\n",
    "#layout.axes['arena_position'].set_ybound(0,360)\n",
    "#layout.axes['arena_position'].set_yticks([0,180,360])\n",
    "#layout.axes['arena_position'].set_ylabel('arena \\n orientation')\n",
    "#layout.axes['arena_position'].patch.set_alpha(0.0)\n",
    "\n",
    "layout.axes['lmr'].plot(times,lmr,clip_on = False,color = 'k', lw = .8)\n",
    "layout.axes['lmr'].set_xbound(0,times[-1])\n",
    "layout.axes['lmr'].set_ylabel('left - right \\n amplitude')\n",
    "layout.axes['lmr'].set_ybound(-20,20)\n",
    "layout.axes['lmr'].set_yticks([-20,0,20])\n",
    "#layout.axes['arena_position'].patch.set_alpha(0.0)\n",
    "\n",
    "\n",
    "layout.axes['axvline'].patch.set_alpha(0.0)\n",
    "layout.axes['axvline'].set_xbound(0,times[-1])\n",
    "\n",
    "layout.axes['axvline_1'].patch.set_alpha(0.0)\n",
    "layout.axes['axvline_1'].set_xbound(0,times[-1])\n",
    "fifi.mpl_functions.set_spines(layout)\n",
    "\n",
    "indicator = layout.axes['axvline'].axvline(0,color = 'k')\n",
    "indicator = layout.axes['axvline_1'].axvline(0,color = 'k')\n",
    "\n",
    "def update(frame):\n",
    "    fly_img.set_data(fly.kine_cam_1[idxs[frame]][:,:450].T[:,::-1])#**1.19)\n",
    "    #arena_img.set_data(util.jpg2np(fly.arena_cam_1[idxs[frame]])[:,150:650])\n",
    "    #ca_l_img.set_data(fly.ca_cam_left[idxs[frame]][:,25:-25]**1.25)\n",
    "    ca_r_img.set_data(fly.ca_cam_right[idxs[frame]][:,25:-25]**1.25)\n",
    "    #indicator.set_xdata(times[frame])\n",
    "\n",
    "update(0)\n",
    "plt.draw()\n",
    "\n",
    "from matplotlib.animation import FFMpegWriter \n",
    "Writer = FFMpegWriter \n",
    "writer = FFMpegWriter(fps=30, metadata=dict(artist='Alysha de Souza'), \n",
    "                      extra_args=['-vcodec', 'h264', '-pix_fmt','yuv420p'])\n",
    "ani = FuncAnimation(plt.gcf(), update, frames=np.arange(0,375))\n",
    "ani.save('cl_movie_5.mp4',writer = writer)"
   ]
  },
  {
   "cell_type": "code",
   "execution_count": null,
   "metadata": {},
   "outputs": [],
   "source": [
    "insert annotations into video\n"
   ]
  },
  {
   "cell_type": "code",
   "execution_count": 8,
   "metadata": {},
   "outputs": [
    {
     "data": {
      "text/plain": [
       "0        0.529976\n",
       "1        0.529384\n",
       "2        0.499114\n",
       "3        0.499635\n",
       "4        0.492704\n",
       "5        0.518614\n",
       "6        0.540897\n",
       "7        0.531048\n",
       "8        0.538303\n",
       "9        0.508191\n",
       "10       0.492867\n",
       "11       0.524865\n",
       "12       0.537414\n",
       "13       0.508410\n",
       "14       0.555123\n",
       "15       0.540325\n",
       "16       0.571615\n",
       "17       0.539972\n",
       "18       0.532050\n",
       "19       0.526627\n",
       "20       0.538480\n",
       "21       0.564064\n",
       "22       0.536438\n",
       "23       0.560260\n",
       "24       0.536625\n",
       "25       0.541722\n",
       "26       0.544264\n",
       "27       0.547105\n",
       "28       0.551239\n",
       "29       0.550468\n",
       "           ...   \n",
       "15470    0.717997\n",
       "15471    0.691343\n",
       "15472    0.669863\n",
       "15473    0.695225\n",
       "15474    0.758883\n",
       "15475    0.753679\n",
       "15476    0.695968\n",
       "15477    0.728968\n",
       "15478    0.732538\n",
       "15479    0.742021\n",
       "15480    0.703889\n",
       "15481    0.676808\n",
       "15482    0.697036\n",
       "15483    0.697479\n",
       "15484    0.672005\n",
       "15485    0.686107\n",
       "15486    0.665374\n",
       "15487    0.654243\n",
       "15488    0.663318\n",
       "15489    0.656348\n",
       "15490    0.652943\n",
       "15491    0.663322\n",
       "15492    0.674642\n",
       "15493    0.635716\n",
       "15494    0.637489\n",
       "15495    0.630134\n",
       "15496    0.655557\n",
       "15497    0.647015\n",
       "15498    0.694542\n",
       "15499    0.614586\n",
       "Name: iii1_right, Length: 15500, dtype: float64"
      ]
     },
     "execution_count": 8,
     "metadata": {},
     "output_type": "execute_result"
    }
   ],
   "source": [
    "h"
   ]
  },
  {
   "cell_type": "code",
   "execution_count": null,
   "metadata": {},
   "outputs": [],
   "source": []
  }
 ],
 "metadata": {
  "kernelspec": {
   "display_name": "Python 2",
   "language": "python",
   "name": "python2"
  },
  "language_info": {
   "codemirror_mode": {
    "name": "ipython",
    "version": 2
   },
   "file_extension": ".py",
   "mimetype": "text/x-python",
   "name": "python",
   "nbconvert_exporter": "python",
   "pygments_lexer": "ipython2",
   "version": "2.7.12"
  }
 },
 "nbformat": 4,
 "nbformat_minor": 2
}
