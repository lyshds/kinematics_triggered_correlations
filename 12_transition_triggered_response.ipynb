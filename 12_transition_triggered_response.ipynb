{
 "cells": [
  {
   "cell_type": "code",
   "execution_count": 1,
   "metadata": {},
   "outputs": [],
   "source": [
    "from thllib import flylib as flb\n",
    "from matplotlib import pyplot as plt\n",
    "import numpy as np\n",
    "import scipy\n",
    "from thllib import util\n",
    "import figurefirst as fifi\n",
    "import scipy.signal\n",
    "import local_project_functions as lpf\n",
    "from IPython.display import SVG,display"
   ]
  },
  {
   "cell_type": "code",
   "execution_count": 2,
   "metadata": {},
   "outputs": [],
   "source": [
    "%matplotlib inline"
   ]
  },
  {
   "cell_type": "code",
   "execution_count": 3,
   "metadata": {},
   "outputs": [],
   "source": [
    "import networkx as nx"
   ]
  },
  {
   "cell_type": "code",
   "execution_count": 13,
   "metadata": {},
   "outputs": [],
   "source": [
    "flynumbers = list(range(1389,1402))\n",
    "flylist = [flb.NetFly(fnum,rootpath='/media/imager/FlyDataD/FlyDB/') for fnum in flynumbers]\n",
    "l = [fly.open_signals() for fly in#fly = flylist[4]\n",
    "#fly.open_signals() flylist]"
   ]
  },
  {
   "cell_type": "code",
   "execution_count": 75,
   "metadata": {},
   "outputs": [],
   "source": [
    "flydict = {}\n",
    "for fly in flylist:\n",
    "    flydict[fly.flynum] = fly"
   ]
  },
  {
   "cell_type": "code",
   "execution_count": 124,
   "metadata": {},
   "outputs": [],
   "source": [
    "sorted_keys = sorted(fly.spikestates.keys())\n",
    "\n",
    "cull_list = [('left', 'bkg'),('right', 'bkg'),\n",
    "            ('left', 'iii24'),('right', 'iii24'),\n",
    "            ('left', 'nm'),('right', 'nm'),\n",
    "            ('left', 'pr'),('right', 'pr'),\n",
    "            ('left', 'tpd'),('right', 'tpd')]\n",
    "\n",
    "for cull in cull_list:\n",
    "    sorted_keys.remove(cull)\n",
    "#[sorted_keys.remove(cull) for cull in cull_list]\n",
    "#state_mtrx = np.vstack([fly.spikestates[key] for key in sorted_keys])"
   ]
  },
  {
   "cell_type": "code",
   "execution_count": 320,
   "metadata": {},
   "outputs": [],
   "source": [
    "stim_conditions = [('common', 'idx', 'cl_blocks, g_x=-1, g_y=0 b_x=0, b_y=0'),\n",
    "                  ('common', 'idx', 'cl_blocks, g_x=-1, g_y=0 b_x=-8, b_y=0'),\n",
    "                  ('common', 'idx', 'cl_blocks, g_x=-1, g_y=0 b_x=8, b_y=0')]\n",
    "\n",
    "#stim_conditions = [('common', 'idx', 'cl_blocks, g_x=-1, g_y=0 b_x=0, b_y=0')]\n",
    "state_mtrx_dict = {}\n",
    "for fly in flylist:\n",
    "    state_mtrx_dict[fly.flynum] = {}\n",
    "    idxs = list()\n",
    "    for stim_condition in stim_conditions:\n",
    "        idxs.extend(fly.block_data[stim_condition])\n",
    "    for muscle_key in sorted_keys:\n",
    "        state_mtrx_dict[fly.flynum][muscle_key] = [(fly.spikestates[muscle_key][idx],idx) for idx in idxs]"
   ]
  },
  {
   "cell_type": "code",
   "execution_count": 321,
   "metadata": {},
   "outputs": [],
   "source": [
    "def get_transitions(state_mtrx_dict,muscle_key,pre_trig_idx = 10,post_trig_idx = 100):\n",
    "    off_on_list = []\n",
    "    on_off_list = []\n",
    "    for flynum,tdict in state_mtrx_dict.items():\n",
    "        for row in tdict[muscle_key]:\n",
    "            off_on_idx = np.argwhere(np.diff(row[0]) == 1)\n",
    "            on_off_idx = np.argwhere(np.diff(row[0]) == -1)\n",
    "            \n",
    "            for idx in off_on_idx:\n",
    "                if (idx+post_trig_idx < len(row[0])) & (idx-pre_trig_idx > 0):\n",
    "                    off_on_list.append((flynum,row[1][idx-pre_trig_idx:idx+post_trig_idx]))\n",
    "            for idx in on_off_idx:\n",
    "                if (idx+post_trig_idx < len(row[0])) & (idx-pre_trig_idx > 0):\n",
    "                    on_off_list.append((flynum,row[1][idx-pre_trig_idx:idx+post_trig_idx]))\n",
    "    return {'off_on':off_on_list,'on_off':on_off_list}            \n",
    "\n",
    "def plot_trig_panel(ax_group,\n",
    "                    trig_key,\n",
    "                    direction = 'off_on',\n",
    "                    ts = 0.02,\n",
    "                    pretrig = 10,\n",
    "                    posttrig = 50):\n",
    "    time = np.arange(pretrig+posttrig)*ts\n",
    "    idx_list = get_transitions(state_mtrx_dict,trig_key,pretrig,posttrig)\n",
    "    signal_mtrxs = {}\n",
    "    for key in sorted_keys:\n",
    "        signal_mtrxs[key] = np.vstack([flydict[fnum].spikestates[key][idx] for fnum,idx in idx_list[direction]])\n",
    "    signal_mtrxs['left','amp'] =  np.hstack([np.array(flydict[fnum].left_amp)[idx] for fnum,idx in idx_list[direction]]).T\n",
    "    signal_mtrxs['right','amp'] =  np.hstack([np.array(flydict[fnum].right_amp)[idx] for fnum,idx in idx_list[direction]]).T\n",
    "    filter_cond = np.sum(signal_mtrxs[trig_key][:,:11],axis = 1) == {'off_on':0,'on_off':1*11}[direction]\n",
    "    rast_mtrx = signal_mtrxs[trig_key][filter_cond,:]\n",
    "    rast_mtrx = rast_mtrx[np.random.randint(0,rast_mtrx.shape[0],size = 100),:]\n",
    "    ax_group['raster'].imshow(rast_mtrx,\n",
    "               aspect = 'auto',interpolation = 'nearest',extent = [0,time[-1],0,100])\n",
    "    ax_group['raster'].set_ybound(0,100)\n",
    "    ax_group['kine'].plot(time,np.rad2deg(np.nanmean(signal_mtrxs['left','amp'][filter_cond,:],axis = 0)))\n",
    "    ax_group['kine'].plot(time,np.rad2deg(np.nanmean(signal_mtrxs['right','amp'][filter_cond,:],axis = 0)))\n",
    "    for key,ax in ax_group['left'].items():\n",
    "        ax.plot(time,np.nanmean(signal_mtrxs['left',key][filter_cond,:],axis = 0),color = 'b')\n",
    "    for key,ax in ax_group['right'].items():\n",
    "        ax.plot(time,np.nanmean(signal_mtrxs['right',key][filter_cond,:],axis = 0),color = 'g')\n",
    "\n",
    "\n",
    "layout = fifi.FigureLayout('reconvolution_layout.svg',make_mplfigures=True)\n",
    "\n",
    "ts = 0.02\n",
    "pretrig = 10 #samples\n",
    "posttrig = 50 #samples\n",
    "\n",
    "ax_group = layout.axes_groups['none']['i1_on']\n",
    "plot_trig_panel(ax_group,('left','i1'),direction = 'off_on',ts = ts,pretrig = pretrig,posttrig = posttrig)\n",
    "ax_group = layout.axes_groups['none']['i1_off']\n",
    "plot_trig_panel(ax_group,('left','i1'),direction = 'on_off',ts = ts,pretrig = pretrig,posttrig = posttrig)\n",
    "\n",
    "ax_group = layout.axes_groups['none']['iii3_on']\n",
    "plot_trig_panel(ax_group,('left','b3'),direction = 'off_on',ts = ts,pretrig = pretrig,posttrig = posttrig)\n",
    "ax_group = layout.axes_groups['none']['iii3_off']\n",
    "plot_trig_panel(ax_group,('left','b3'),direction = 'on_off',ts = ts,pretrig = pretrig,posttrig = posttrig)\n",
    "\n",
    "for ax in layout.axes.values():\n",
    "    ax.set_xbound(0,1)\n",
    "    \n",
    "layout.apply_mpl_methods()\n",
    "fifi.mpl_functions.set_spines(layout)\n",
    "layout.save('reconvolution.svg')\n",
    "plt.close('all')\n",
    "display(SVG('reconvolution.svg'))"
   ]
  },
  {
   "cell_type": "code",
   "execution_count": null,
   "metadata": {},
   "outputs": [],
   "source": []
  }
 ],
 "metadata": {
  "kernelspec": {
   "display_name": "Python 2",
   "language": "python",
   "name": "python2"
  },
  "language_info": {
   "codemirror_mode": {
    "name": "ipython",
    "version": 2
   },
   "file_extension": ".py",
   "mimetype": "text/x-python",
   "name": "python",
   "nbconvert_exporter": "python",
   "pygments_lexer": "ipython2",
   "version": "2.7.12"
  }
 },
 "nbformat": 4,
 "nbformat_minor": 2
}
